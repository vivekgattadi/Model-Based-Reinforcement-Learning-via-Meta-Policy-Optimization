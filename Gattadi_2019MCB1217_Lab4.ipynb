{
  "cells": [
    {
      "cell_type": "markdown",
      "metadata": {
        "id": "mpvrv5yreB68"
      },
      "source": [
        "#Installing Dependencies"
      ]
    },
    {
      "cell_type": "code",
      "execution_count": null,
      "metadata": {
        "colab": {
          "base_uri": "https://localhost:8080/"
        },
        "id": "gGruyM75l_9M",
        "outputId": "876cacc4-35c1-42bf-df54-1d7fb05b3510"
      },
      "outputs": [
        {
          "output_type": "stream",
          "name": "stdout",
          "text": [
            "Looking in indexes: https://pypi.org/simple, https://us-python.pkg.dev/colab-wheels/public/simple/\n",
            "Collecting ray[rllib]\n",
            "  Downloading ray-2.4.0-cp310-cp310-manylinux2014_x86_64.whl (58.6 MB)\n",
            "\u001b[2K     \u001b[90m━━━━━━━━━━━━━━━━━━━━━━━━━━━━━━━━━━━━━━━━\u001b[0m \u001b[32m58.6/58.6 MB\u001b[0m \u001b[31m11.3 MB/s\u001b[0m eta \u001b[36m0:00:00\u001b[0m\n",
            "\u001b[?25hRequirement already satisfied: torch in /usr/local/lib/python3.10/dist-packages (2.0.0+cu118)\n",
            "Requirement already satisfied: attrs in /usr/local/lib/python3.10/dist-packages (from ray[rllib]) (23.1.0)\n",
            "Requirement already satisfied: click>=7.0 in /usr/local/lib/python3.10/dist-packages (from ray[rllib]) (8.1.3)\n",
            "Requirement already satisfied: filelock in /usr/local/lib/python3.10/dist-packages (from ray[rllib]) (3.12.0)\n",
            "Requirement already satisfied: jsonschema in /usr/local/lib/python3.10/dist-packages (from ray[rllib]) (4.3.3)\n",
            "Requirement already satisfied: msgpack<2.0.0,>=1.0.0 in /usr/local/lib/python3.10/dist-packages (from ray[rllib]) (1.0.5)\n",
            "Requirement already satisfied: protobuf!=3.19.5,>=3.15.3 in /usr/local/lib/python3.10/dist-packages (from ray[rllib]) (3.20.3)\n",
            "Requirement already satisfied: pyyaml in /usr/local/lib/python3.10/dist-packages (from ray[rllib]) (6.0)\n",
            "Collecting aiosignal (from ray[rllib])\n",
            "  Downloading aiosignal-1.3.1-py3-none-any.whl (7.6 kB)\n",
            "Collecting frozenlist (from ray[rllib])\n",
            "  Downloading frozenlist-1.3.3-cp310-cp310-manylinux_2_5_x86_64.manylinux1_x86_64.manylinux_2_17_x86_64.manylinux2014_x86_64.whl (149 kB)\n",
            "\u001b[2K     \u001b[90m━━━━━━━━━━━━━━━━━━━━━━━━━━━━━━━━━━━━━━\u001b[0m \u001b[32m149.6/149.6 kB\u001b[0m \u001b[31m14.8 MB/s\u001b[0m eta \u001b[36m0:00:00\u001b[0m\n",
            "\u001b[?25hRequirement already satisfied: requests in /usr/local/lib/python3.10/dist-packages (from ray[rllib]) (2.27.1)\n",
            "Collecting virtualenv<20.21.1,>=20.0.24 (from ray[rllib])\n",
            "  Downloading virtualenv-20.21.0-py3-none-any.whl (8.7 MB)\n",
            "\u001b[2K     \u001b[90m━━━━━━━━━━━━━━━━━━━━━━━━━━━━━━━━━━━━━━━━\u001b[0m \u001b[32m8.7/8.7 MB\u001b[0m \u001b[31m105.8 MB/s\u001b[0m eta \u001b[36m0:00:00\u001b[0m\n",
            "\u001b[?25hRequirement already satisfied: packaging in /usr/local/lib/python3.10/dist-packages (from ray[rllib]) (23.1)\n",
            "Collecting grpcio<=1.51.3,>=1.42.0 (from ray[rllib])\n",
            "  Downloading grpcio-1.51.3-cp310-cp310-manylinux_2_17_x86_64.manylinux2014_x86_64.whl (4.8 MB)\n",
            "\u001b[2K     \u001b[90m━━━━━━━━━━━━━━━━━━━━━━━━━━━━━━━━━━━━━━━━\u001b[0m \u001b[32m4.8/4.8 MB\u001b[0m \u001b[31m100.8 MB/s\u001b[0m eta \u001b[36m0:00:00\u001b[0m\n",
            "\u001b[?25hRequirement already satisfied: numpy>=1.19.3 in /usr/local/lib/python3.10/dist-packages (from ray[rllib]) (1.22.4)\n",
            "Requirement already satisfied: pandas in /usr/local/lib/python3.10/dist-packages (from ray[rllib]) (1.5.3)\n",
            "Requirement already satisfied: tabulate in /usr/local/lib/python3.10/dist-packages (from ray[rllib]) (0.8.10)\n",
            "Collecting tensorboardX>=1.9 (from ray[rllib])\n",
            "  Downloading tensorboardX-2.6-py2.py3-none-any.whl (114 kB)\n",
            "\u001b[2K     \u001b[90m━━━━━━━━━━━━━━━━━━━━━━━━━━━━━━━━━━━━━━\u001b[0m \u001b[32m114.5/114.5 kB\u001b[0m \u001b[31m14.4 MB/s\u001b[0m eta \u001b[36m0:00:00\u001b[0m\n",
            "\u001b[?25hRequirement already satisfied: dm-tree in /usr/local/lib/python3.10/dist-packages (from ray[rllib]) (0.1.8)\n",
            "Collecting gymnasium==0.26.3 (from ray[rllib])\n",
            "  Downloading Gymnasium-0.26.3-py3-none-any.whl (836 kB)\n",
            "\u001b[2K     \u001b[90m━━━━━━━━━━━━━━━━━━━━━━━━━━━━━━━━━━━━━━\u001b[0m \u001b[32m836.9/836.9 kB\u001b[0m \u001b[31m59.4 MB/s\u001b[0m eta \u001b[36m0:00:00\u001b[0m\n",
            "\u001b[?25hCollecting lz4 (from ray[rllib])\n",
            "  Downloading lz4-4.3.2-cp310-cp310-manylinux_2_17_x86_64.manylinux2014_x86_64.whl (1.3 MB)\n",
            "\u001b[2K     \u001b[90m━━━━━━━━━━━━━━━━━━━━━━━━━━━━━━━━━━━━━━━━\u001b[0m \u001b[32m1.3/1.3 MB\u001b[0m \u001b[31m72.3 MB/s\u001b[0m eta \u001b[36m0:00:00\u001b[0m\n",
            "\u001b[?25hRequirement already satisfied: scikit-image in /usr/local/lib/python3.10/dist-packages (from ray[rllib]) (0.19.3)\n",
            "Requirement already satisfied: scipy in /usr/local/lib/python3.10/dist-packages (from ray[rllib]) (1.10.1)\n",
            "Requirement already satisfied: typer in /usr/local/lib/python3.10/dist-packages (from ray[rllib]) (0.7.0)\n",
            "Requirement already satisfied: rich in /usr/local/lib/python3.10/dist-packages (from ray[rllib]) (13.3.4)\n",
            "Requirement already satisfied: cloudpickle>=1.2.0 in /usr/local/lib/python3.10/dist-packages (from gymnasium==0.26.3->ray[rllib]) (2.2.1)\n",
            "Collecting gymnasium-notices>=0.0.1 (from gymnasium==0.26.3->ray[rllib])\n",
            "  Downloading gymnasium_notices-0.0.1-py3-none-any.whl (2.8 kB)\n",
            "Requirement already satisfied: typing-extensions in /usr/local/lib/python3.10/dist-packages (from torch) (4.5.0)\n",
            "Requirement already satisfied: sympy in /usr/local/lib/python3.10/dist-packages (from torch) (1.11.1)\n",
            "Requirement already satisfied: networkx in /usr/local/lib/python3.10/dist-packages (from torch) (3.1)\n",
            "Requirement already satisfied: jinja2 in /usr/local/lib/python3.10/dist-packages (from torch) (3.1.2)\n",
            "Requirement already satisfied: triton==2.0.0 in /usr/local/lib/python3.10/dist-packages (from torch) (2.0.0)\n",
            "Requirement already satisfied: cmake in /usr/local/lib/python3.10/dist-packages (from triton==2.0.0->torch) (3.25.2)\n",
            "Requirement already satisfied: lit in /usr/local/lib/python3.10/dist-packages (from triton==2.0.0->torch) (16.0.3)\n",
            "Collecting distlib<1,>=0.3.6 (from virtualenv<20.21.1,>=20.0.24->ray[rllib])\n",
            "  Downloading distlib-0.3.6-py2.py3-none-any.whl (468 kB)\n",
            "\u001b[2K     \u001b[90m━━━━━━━━━━━━━━━━━━━━━━━━━━━━━━━━━━━━━━\u001b[0m \u001b[32m468.5/468.5 kB\u001b[0m \u001b[31m45.1 MB/s\u001b[0m eta \u001b[36m0:00:00\u001b[0m\n",
            "\u001b[?25hRequirement already satisfied: platformdirs<4,>=2.4 in /usr/local/lib/python3.10/dist-packages (from virtualenv<20.21.1,>=20.0.24->ray[rllib]) (3.3.0)\n",
            "Requirement already satisfied: MarkupSafe>=2.0 in /usr/local/lib/python3.10/dist-packages (from jinja2->torch) (2.1.2)\n",
            "Requirement already satisfied: pyrsistent!=0.17.0,!=0.17.1,!=0.17.2,>=0.14.0 in /usr/local/lib/python3.10/dist-packages (from jsonschema->ray[rllib]) (0.19.3)\n",
            "Requirement already satisfied: python-dateutil>=2.8.1 in /usr/local/lib/python3.10/dist-packages (from pandas->ray[rllib]) (2.8.2)\n",
            "Requirement already satisfied: pytz>=2020.1 in /usr/local/lib/python3.10/dist-packages (from pandas->ray[rllib]) (2022.7.1)\n",
            "Requirement already satisfied: urllib3<1.27,>=1.21.1 in /usr/local/lib/python3.10/dist-packages (from requests->ray[rllib]) (1.26.15)\n",
            "Requirement already satisfied: certifi>=2017.4.17 in /usr/local/lib/python3.10/dist-packages (from requests->ray[rllib]) (2022.12.7)\n",
            "Requirement already satisfied: charset-normalizer~=2.0.0 in /usr/local/lib/python3.10/dist-packages (from requests->ray[rllib]) (2.0.12)\n",
            "Requirement already satisfied: idna<4,>=2.5 in /usr/local/lib/python3.10/dist-packages (from requests->ray[rllib]) (3.4)\n",
            "Requirement already satisfied: markdown-it-py<3.0.0,>=2.2.0 in /usr/local/lib/python3.10/dist-packages (from rich->ray[rllib]) (2.2.0)\n",
            "Requirement already satisfied: pygments<3.0.0,>=2.13.0 in /usr/local/lib/python3.10/dist-packages (from rich->ray[rllib]) (2.14.0)\n",
            "Requirement already satisfied: pillow!=7.1.0,!=7.1.1,!=8.3.0,>=6.1.0 in /usr/local/lib/python3.10/dist-packages (from scikit-image->ray[rllib]) (8.4.0)\n",
            "Requirement already satisfied: imageio>=2.4.1 in /usr/local/lib/python3.10/dist-packages (from scikit-image->ray[rllib]) (2.25.1)\n",
            "Requirement already satisfied: tifffile>=2019.7.26 in /usr/local/lib/python3.10/dist-packages (from scikit-image->ray[rllib]) (2023.4.12)\n",
            "Requirement already satisfied: PyWavelets>=1.1.1 in /usr/local/lib/python3.10/dist-packages (from scikit-image->ray[rllib]) (1.4.1)\n",
            "Requirement already satisfied: mpmath>=0.19 in /usr/local/lib/python3.10/dist-packages (from sympy->torch) (1.3.0)\n",
            "Requirement already satisfied: mdurl~=0.1 in /usr/local/lib/python3.10/dist-packages (from markdown-it-py<3.0.0,>=2.2.0->rich->ray[rllib]) (0.1.2)\n",
            "Requirement already satisfied: six>=1.5 in /usr/local/lib/python3.10/dist-packages (from python-dateutil>=2.8.1->pandas->ray[rllib]) (1.16.0)\n",
            "Installing collected packages: gymnasium-notices, distlib, virtualenv, tensorboardX, lz4, gymnasium, grpcio, frozenlist, aiosignal, ray\n",
            "  Attempting uninstall: grpcio\n",
            "    Found existing installation: grpcio 1.54.0\n",
            "    Uninstalling grpcio-1.54.0:\n",
            "      Successfully uninstalled grpcio-1.54.0\n",
            "Successfully installed aiosignal-1.3.1 distlib-0.3.6 frozenlist-1.3.3 grpcio-1.51.3 gymnasium-0.26.3 gymnasium-notices-0.0.1 lz4-4.3.2 ray-2.4.0 tensorboardX-2.6 virtualenv-20.21.0\n"
          ]
        }
      ],
      "source": [
        "!pip install \"ray[rllib]\" torch"
      ]
    },
    {
      "cell_type": "code",
      "execution_count": null,
      "metadata": {
        "colab": {
          "base_uri": "https://localhost:8080/"
        },
        "id": "XX-prAVsoeX6",
        "outputId": "201af093-7951-486e-a095-0caba0e30245"
      },
      "outputs": [
        {
          "output_type": "stream",
          "name": "stdout",
          "text": [
            "Looking in indexes: https://pypi.org/simple, https://us-python.pkg.dev/colab-wheels/public/simple/\n",
            "Collecting higher\n",
            "  Downloading higher-0.2.1-py3-none-any.whl (27 kB)\n",
            "Requirement already satisfied: torch in /usr/local/lib/python3.10/dist-packages (from higher) (2.0.0+cu118)\n",
            "Requirement already satisfied: filelock in /usr/local/lib/python3.10/dist-packages (from torch->higher) (3.12.0)\n",
            "Requirement already satisfied: typing-extensions in /usr/local/lib/python3.10/dist-packages (from torch->higher) (4.5.0)\n",
            "Requirement already satisfied: sympy in /usr/local/lib/python3.10/dist-packages (from torch->higher) (1.11.1)\n",
            "Requirement already satisfied: networkx in /usr/local/lib/python3.10/dist-packages (from torch->higher) (3.1)\n",
            "Requirement already satisfied: jinja2 in /usr/local/lib/python3.10/dist-packages (from torch->higher) (3.1.2)\n",
            "Requirement already satisfied: triton==2.0.0 in /usr/local/lib/python3.10/dist-packages (from torch->higher) (2.0.0)\n",
            "Requirement already satisfied: cmake in /usr/local/lib/python3.10/dist-packages (from triton==2.0.0->torch->higher) (3.25.2)\n",
            "Requirement already satisfied: lit in /usr/local/lib/python3.10/dist-packages (from triton==2.0.0->torch->higher) (16.0.3)\n",
            "Requirement already satisfied: MarkupSafe>=2.0 in /usr/local/lib/python3.10/dist-packages (from jinja2->torch->higher) (2.1.2)\n",
            "Requirement already satisfied: mpmath>=0.19 in /usr/local/lib/python3.10/dist-packages (from sympy->torch->higher) (1.3.0)\n",
            "Installing collected packages: higher\n",
            "Successfully installed higher-0.2.1\n"
          ]
        }
      ],
      "source": [
        "!pip install higher"
      ]
    },
    {
      "cell_type": "code",
      "execution_count": null,
      "metadata": {
        "colab": {
          "base_uri": "https://localhost:8080/"
        },
        "id": "s2SpzIjJcO5s",
        "outputId": "b03b84c7-1f4e-434d-bcb6-eb5da0e59c91"
      },
      "outputs": [
        {
          "output_type": "stream",
          "name": "stdout",
          "text": [
            "Looking in indexes: https://pypi.org/simple, https://us-python.pkg.dev/colab-wheels/public/simple/\n",
            "Requirement already satisfied: ray[serve] in /usr/local/lib/python3.10/dist-packages (2.4.0)\n",
            "Requirement already satisfied: attrs in /usr/local/lib/python3.10/dist-packages (from ray[serve]) (23.1.0)\n",
            "Requirement already satisfied: click>=7.0 in /usr/local/lib/python3.10/dist-packages (from ray[serve]) (8.1.3)\n",
            "Requirement already satisfied: filelock in /usr/local/lib/python3.10/dist-packages (from ray[serve]) (3.12.0)\n",
            "Requirement already satisfied: jsonschema in /usr/local/lib/python3.10/dist-packages (from ray[serve]) (4.3.3)\n",
            "Requirement already satisfied: msgpack<2.0.0,>=1.0.0 in /usr/local/lib/python3.10/dist-packages (from ray[serve]) (1.0.5)\n",
            "Requirement already satisfied: protobuf!=3.19.5,>=3.15.3 in /usr/local/lib/python3.10/dist-packages (from ray[serve]) (3.20.3)\n",
            "Requirement already satisfied: pyyaml in /usr/local/lib/python3.10/dist-packages (from ray[serve]) (6.0)\n",
            "Requirement already satisfied: aiosignal in /usr/local/lib/python3.10/dist-packages (from ray[serve]) (1.3.1)\n",
            "Requirement already satisfied: frozenlist in /usr/local/lib/python3.10/dist-packages (from ray[serve]) (1.3.3)\n",
            "Requirement already satisfied: requests in /usr/local/lib/python3.10/dist-packages (from ray[serve]) (2.27.1)\n",
            "Requirement already satisfied: virtualenv<20.21.1,>=20.0.24 in /usr/local/lib/python3.10/dist-packages (from ray[serve]) (20.21.0)\n",
            "Requirement already satisfied: packaging in /usr/local/lib/python3.10/dist-packages (from ray[serve]) (23.1)\n",
            "Requirement already satisfied: grpcio<=1.51.3,>=1.42.0 in /usr/local/lib/python3.10/dist-packages (from ray[serve]) (1.51.3)\n",
            "Requirement already satisfied: numpy>=1.19.3 in /usr/local/lib/python3.10/dist-packages (from ray[serve]) (1.22.4)\n",
            "Collecting uvicorn (from ray[serve])\n",
            "  Downloading uvicorn-0.22.0-py3-none-any.whl (58 kB)\n",
            "\u001b[2K     \u001b[90m━━━━━━━━━━━━━━━━━━━━━━━━━━━━━━━━━━━━━━━━\u001b[0m \u001b[32m58.3/58.3 kB\u001b[0m \u001b[31m3.7 MB/s\u001b[0m eta \u001b[36m0:00:00\u001b[0m\n",
            "\u001b[?25hCollecting colorful (from ray[serve])\n",
            "  Downloading colorful-0.5.5-py2.py3-none-any.whl (201 kB)\n",
            "\u001b[2K     \u001b[90m━━━━━━━━━━━━━━━━━━━━━━━━━━━━━━━━━━━━━━\u001b[0m \u001b[32m201.4/201.4 kB\u001b[0m \u001b[31m17.8 MB/s\u001b[0m eta \u001b[36m0:00:00\u001b[0m\n",
            "\u001b[?25hRequirement already satisfied: prometheus-client>=0.7.1 in /usr/local/lib/python3.10/dist-packages (from ray[serve]) (0.16.0)\n",
            "Collecting gpustat>=1.0.0 (from ray[serve])\n",
            "  Downloading gpustat-1.1.tar.gz (97 kB)\n",
            "\u001b[2K     \u001b[90m━━━━━━━━━━━━━━━━━━━━━━━━━━━━━━━━━━━━━━━━\u001b[0m \u001b[32m97.9/97.9 kB\u001b[0m \u001b[31m10.9 MB/s\u001b[0m eta \u001b[36m0:00:00\u001b[0m\n",
            "\u001b[?25h  Installing build dependencies ... \u001b[?25l\u001b[?25hdone\n",
            "  Getting requirements to build wheel ... \u001b[?25l\u001b[?25hdone\n",
            "  Preparing metadata (pyproject.toml) ... \u001b[?25l\u001b[?25hdone\n",
            "Requirement already satisfied: pydantic in /usr/local/lib/python3.10/dist-packages (from ray[serve]) (1.10.7)\n",
            "Collecting starlette (from ray[serve])\n",
            "  Downloading starlette-0.26.1-py3-none-any.whl (66 kB)\n",
            "\u001b[2K     \u001b[90m━━━━━━━━━━━━━━━━━━━━━━━━━━━━━━━━━━━━━━━━\u001b[0m \u001b[32m66.9/66.9 kB\u001b[0m \u001b[31m7.9 MB/s\u001b[0m eta \u001b[36m0:00:00\u001b[0m\n",
            "\u001b[?25hCollecting aiorwlock (from ray[serve])\n",
            "  Downloading aiorwlock-1.3.0-py3-none-any.whl (10.0 kB)\n",
            "Collecting aiohttp>=3.7 (from ray[serve])\n",
            "  Downloading aiohttp-3.8.4-cp310-cp310-manylinux_2_17_x86_64.manylinux2014_x86_64.whl (1.0 MB)\n",
            "\u001b[2K     \u001b[90m━━━━━━━━━━━━━━━━━━━━━━━━━━━━━━━━━━━━━━━━\u001b[0m \u001b[32m1.0/1.0 MB\u001b[0m \u001b[31m44.1 MB/s\u001b[0m eta \u001b[36m0:00:00\u001b[0m\n",
            "\u001b[?25hCollecting opencensus (from ray[serve])\n",
            "  Downloading opencensus-0.11.2-py2.py3-none-any.whl (128 kB)\n",
            "\u001b[2K     \u001b[90m━━━━━━━━━━━━━━━━━━━━━━━━━━━━━━━━━━━━━━\u001b[0m \u001b[32m128.2/128.2 kB\u001b[0m \u001b[31m16.8 MB/s\u001b[0m eta \u001b[36m0:00:00\u001b[0m\n",
            "\u001b[?25hCollecting py-spy>=0.2.0 (from ray[serve])\n",
            "  Downloading py_spy-0.3.14-py2.py3-none-manylinux_2_5_x86_64.manylinux1_x86_64.whl (3.0 MB)\n",
            "\u001b[2K     \u001b[90m━━━━━━━━━━━━━━━━━━━━━━━━━━━━━━━━━━━━━━━━\u001b[0m \u001b[32m3.0/3.0 MB\u001b[0m \u001b[31m48.6 MB/s\u001b[0m eta \u001b[36m0:00:00\u001b[0m\n",
            "\u001b[?25hCollecting fastapi (from ray[serve])\n",
            "  Downloading fastapi-0.95.1-py3-none-any.whl (56 kB)\n",
            "\u001b[2K     \u001b[90m━━━━━━━━━━━━━━━━━━━━━━━━━━━━━━━━━━━━━━━━\u001b[0m \u001b[32m57.0/57.0 kB\u001b[0m \u001b[31m8.0 MB/s\u001b[0m eta \u001b[36m0:00:00\u001b[0m\n",
            "\u001b[?25hRequirement already satisfied: smart-open in /usr/local/lib/python3.10/dist-packages (from ray[serve]) (6.3.0)\n",
            "Collecting aiohttp-cors (from ray[serve])\n",
            "  Downloading aiohttp_cors-0.7.0-py3-none-any.whl (27 kB)\n",
            "Requirement already satisfied: charset-normalizer<4.0,>=2.0 in /usr/local/lib/python3.10/dist-packages (from aiohttp>=3.7->ray[serve]) (2.0.12)\n",
            "Collecting multidict<7.0,>=4.5 (from aiohttp>=3.7->ray[serve])\n",
            "  Downloading multidict-6.0.4-cp310-cp310-manylinux_2_17_x86_64.manylinux2014_x86_64.whl (114 kB)\n",
            "\u001b[2K     \u001b[90m━━━━━━━━━━━━━━━━━━━━━━━━━━━━━━━━━━━━━━\u001b[0m \u001b[32m114.5/114.5 kB\u001b[0m \u001b[31m15.3 MB/s\u001b[0m eta \u001b[36m0:00:00\u001b[0m\n",
            "\u001b[?25hCollecting async-timeout<5.0,>=4.0.0a3 (from aiohttp>=3.7->ray[serve])\n",
            "  Downloading async_timeout-4.0.2-py3-none-any.whl (5.8 kB)\n",
            "Collecting yarl<2.0,>=1.0 (from aiohttp>=3.7->ray[serve])\n",
            "  Downloading yarl-1.9.2-cp310-cp310-manylinux_2_17_x86_64.manylinux2014_x86_64.whl (268 kB)\n",
            "\u001b[2K     \u001b[90m━━━━━━━━━━━━━━━━━━━━━━━━━━━━━━━━━━━━━━\u001b[0m \u001b[32m268.8/268.8 kB\u001b[0m \u001b[31m18.4 MB/s\u001b[0m eta \u001b[36m0:00:00\u001b[0m\n",
            "\u001b[?25hCollecting nvidia-ml-py>=11.450.129 (from gpustat>=1.0.0->ray[serve])\n",
            "  Downloading nvidia_ml_py-11.525.112-py3-none-any.whl (35 kB)\n",
            "Requirement already satisfied: psutil>=5.6.0 in /usr/local/lib/python3.10/dist-packages (from gpustat>=1.0.0->ray[serve]) (5.9.5)\n",
            "Collecting blessed>=1.17.1 (from gpustat>=1.0.0->ray[serve])\n",
            "  Downloading blessed-1.20.0-py2.py3-none-any.whl (58 kB)\n",
            "\u001b[2K     \u001b[90m━━━━━━━━━━━━━━━━━━━━━━━━━━━━━━━━━━━━━━━━\u001b[0m \u001b[32m58.4/58.4 kB\u001b[0m \u001b[31m8.8 MB/s\u001b[0m eta \u001b[36m0:00:00\u001b[0m\n",
            "\u001b[?25hRequirement already satisfied: distlib<1,>=0.3.6 in /usr/local/lib/python3.10/dist-packages (from virtualenv<20.21.1,>=20.0.24->ray[serve]) (0.3.6)\n",
            "Requirement already satisfied: platformdirs<4,>=2.4 in /usr/local/lib/python3.10/dist-packages (from virtualenv<20.21.1,>=20.0.24->ray[serve]) (3.3.0)\n",
            "Requirement already satisfied: typing-extensions>=4.2.0 in /usr/local/lib/python3.10/dist-packages (from pydantic->ray[serve]) (4.5.0)\n",
            "Requirement already satisfied: anyio<5,>=3.4.0 in /usr/local/lib/python3.10/dist-packages (from starlette->ray[serve]) (3.6.2)\n",
            "Requirement already satisfied: pyrsistent!=0.17.0,!=0.17.1,!=0.17.2,>=0.14.0 in /usr/local/lib/python3.10/dist-packages (from jsonschema->ray[serve]) (0.19.3)\n",
            "Collecting opencensus-context>=0.1.3 (from opencensus->ray[serve])\n",
            "  Downloading opencensus_context-0.1.3-py2.py3-none-any.whl (5.1 kB)\n",
            "Requirement already satisfied: google-api-core<3.0.0,>=1.0.0 in /usr/local/lib/python3.10/dist-packages (from opencensus->ray[serve]) (2.11.0)\n",
            "Requirement already satisfied: urllib3<1.27,>=1.21.1 in /usr/local/lib/python3.10/dist-packages (from requests->ray[serve]) (1.26.15)\n",
            "Requirement already satisfied: certifi>=2017.4.17 in /usr/local/lib/python3.10/dist-packages (from requests->ray[serve]) (2022.12.7)\n",
            "Requirement already satisfied: idna<4,>=2.5 in /usr/local/lib/python3.10/dist-packages (from requests->ray[serve]) (3.4)\n",
            "Collecting h11>=0.8 (from uvicorn->ray[serve])\n",
            "  Downloading h11-0.14.0-py3-none-any.whl (58 kB)\n",
            "\u001b[2K     \u001b[90m━━━━━━━━━━━━━━━━━━━━━━━━━━━━━━━━━━━━━━━━\u001b[0m \u001b[32m58.3/58.3 kB\u001b[0m \u001b[31m8.3 MB/s\u001b[0m eta \u001b[36m0:00:00\u001b[0m\n",
            "\u001b[?25hRequirement already satisfied: sniffio>=1.1 in /usr/local/lib/python3.10/dist-packages (from anyio<5,>=3.4.0->starlette->ray[serve]) (1.3.0)\n",
            "Requirement already satisfied: wcwidth>=0.1.4 in /usr/local/lib/python3.10/dist-packages (from blessed>=1.17.1->gpustat>=1.0.0->ray[serve]) (0.2.6)\n",
            "Requirement already satisfied: six>=1.9.0 in /usr/local/lib/python3.10/dist-packages (from blessed>=1.17.1->gpustat>=1.0.0->ray[serve]) (1.16.0)\n",
            "Requirement already satisfied: googleapis-common-protos<2.0dev,>=1.56.2 in /usr/local/lib/python3.10/dist-packages (from google-api-core<3.0.0,>=1.0.0->opencensus->ray[serve]) (1.59.0)\n",
            "Requirement already satisfied: google-auth<3.0dev,>=2.14.1 in /usr/local/lib/python3.10/dist-packages (from google-api-core<3.0.0,>=1.0.0->opencensus->ray[serve]) (2.17.3)\n",
            "Requirement already satisfied: cachetools<6.0,>=2.0.0 in /usr/local/lib/python3.10/dist-packages (from google-auth<3.0dev,>=2.14.1->google-api-core<3.0.0,>=1.0.0->opencensus->ray[serve]) (5.3.0)\n",
            "Requirement already satisfied: pyasn1-modules>=0.2.1 in /usr/local/lib/python3.10/dist-packages (from google-auth<3.0dev,>=2.14.1->google-api-core<3.0.0,>=1.0.0->opencensus->ray[serve]) (0.3.0)\n",
            "Requirement already satisfied: rsa<5,>=3.1.4 in /usr/local/lib/python3.10/dist-packages (from google-auth<3.0dev,>=2.14.1->google-api-core<3.0.0,>=1.0.0->opencensus->ray[serve]) (4.9)\n",
            "Requirement already satisfied: pyasn1<0.6.0,>=0.4.6 in /usr/local/lib/python3.10/dist-packages (from pyasn1-modules>=0.2.1->google-auth<3.0dev,>=2.14.1->google-api-core<3.0.0,>=1.0.0->opencensus->ray[serve]) (0.5.0)\n",
            "Building wheels for collected packages: gpustat\n",
            "  Building wheel for gpustat (pyproject.toml) ... \u001b[?25l\u001b[?25hdone\n",
            "  Created wheel for gpustat: filename=gpustat-1.1-py3-none-any.whl size=26280 sha256=45e08448b02e32e17bff26fe0905cb64e1c9d54a51a79ff8896848edbdd6ec49\n",
            "  Stored in directory: /root/.cache/pip/wheels/ee/d0/2c/1e02440645c2318ba03aea99993a44a9108dc8f74de0bd370b\n",
            "Successfully built gpustat\n",
            "Installing collected packages: py-spy, opencensus-context, nvidia-ml-py, colorful, multidict, h11, blessed, async-timeout, aiorwlock, yarl, uvicorn, starlette, gpustat, fastapi, aiohttp, opencensus, aiohttp-cors\n",
            "Successfully installed aiohttp-3.8.4 aiohttp-cors-0.7.0 aiorwlock-1.3.0 async-timeout-4.0.2 blessed-1.20.0 colorful-0.5.5 fastapi-0.95.1 gpustat-1.1 h11-0.14.0 multidict-6.0.4 nvidia-ml-py-11.525.112 opencensus-0.11.2 opencensus-context-0.1.3 py-spy-0.3.14 starlette-0.26.1 uvicorn-0.22.0 yarl-1.9.2\n"
          ]
        }
      ],
      "source": [
        "!pip install ray[serve]"
      ]
    },
    {
      "cell_type": "code",
      "execution_count": null,
      "metadata": {
        "colab": {
          "base_uri": "https://localhost:8080/"
        },
        "id": "9cs8-gAYcXGo",
        "outputId": "354f6a63-4d20-4bd6-b8c6-80c037593921"
      },
      "outputs": [
        {
          "output_type": "stream",
          "name": "stdout",
          "text": [
            "Looking in indexes: https://pypi.org/simple, https://us-python.pkg.dev/colab-wheels/public/simple/\n",
            "Requirement already satisfied: gymnasium[mujoco] in /usr/local/lib/python3.10/dist-packages (0.26.3)\n",
            "Requirement already satisfied: numpy>=1.18.0 in /usr/local/lib/python3.10/dist-packages (from gymnasium[mujoco]) (1.22.4)\n",
            "Requirement already satisfied: cloudpickle>=1.2.0 in /usr/local/lib/python3.10/dist-packages (from gymnasium[mujoco]) (2.2.1)\n",
            "Requirement already satisfied: gymnasium-notices>=0.0.1 in /usr/local/lib/python3.10/dist-packages (from gymnasium[mujoco]) (0.0.1)\n",
            "Collecting mujoco==2.2 (from gymnasium[mujoco])\n",
            "  Downloading mujoco-2.2.0-cp310-cp310-manylinux_2_17_x86_64.manylinux2014_x86_64.whl (3.6 MB)\n",
            "\u001b[2K     \u001b[90m━━━━━━━━━━━━━━━━━━━━━━━━━━━━━━━━━━━━━━━━\u001b[0m \u001b[32m3.6/3.6 MB\u001b[0m \u001b[31m49.2 MB/s\u001b[0m eta \u001b[36m0:00:00\u001b[0m\n",
            "\u001b[?25hRequirement already satisfied: imageio>=2.14.1 in /usr/local/lib/python3.10/dist-packages (from gymnasium[mujoco]) (2.25.1)\n",
            "Requirement already satisfied: absl-py in /usr/local/lib/python3.10/dist-packages (from mujoco==2.2->gymnasium[mujoco]) (1.4.0)\n",
            "Collecting glfw (from mujoco==2.2->gymnasium[mujoco])\n",
            "  Downloading glfw-2.5.9-py2.py27.py3.py30.py31.py32.py33.py34.py35.py36.py37.py38-none-manylinux2014_x86_64.whl (207 kB)\n",
            "\u001b[2K     \u001b[90m━━━━━━━━━━━━━━━━━━━━━━━━━━━━━━━━━━━━━━\u001b[0m \u001b[32m207.8/207.8 kB\u001b[0m \u001b[31m26.6 MB/s\u001b[0m eta \u001b[36m0:00:00\u001b[0m\n",
            "\u001b[?25hRequirement already satisfied: pyopengl in /usr/local/lib/python3.10/dist-packages (from mujoco==2.2->gymnasium[mujoco]) (3.1.6)\n",
            "Requirement already satisfied: pillow>=8.3.2 in /usr/local/lib/python3.10/dist-packages (from imageio>=2.14.1->gymnasium[mujoco]) (8.4.0)\n",
            "Installing collected packages: glfw, mujoco\n",
            "Successfully installed glfw-2.5.9 mujoco-2.2.0\n"
          ]
        }
      ],
      "source": [
        "!pip install gymnasium[mujoco]"
      ]
    },
    {
      "cell_type": "code",
      "execution_count": null,
      "metadata": {
        "id": "iEtRHZG4chja"
      },
      "outputs": [],
      "source": [
        "import numpy as np\n",
        "import pandas as pd\n",
        "import matplotlib.pyplot as plt\n",
        "import gymnasium as gym\n",
        "import ray"
      ]
    },
    {
      "cell_type": "code",
      "execution_count": null,
      "metadata": {
        "colab": {
          "base_uri": "https://localhost:8080/"
        },
        "id": "duP11dgTcqoa",
        "outputId": "0bf7b18c-8ffc-4b7b-c468-d176b50de881"
      },
      "outputs": [
        {
          "output_type": "stream",
          "name": "stderr",
          "text": [
            "/usr/local/lib/python3.10/dist-packages/tensorflow_probability/python/__init__.py:57: DeprecationWarning: distutils Version classes are deprecated. Use packaging.version instead.\n",
            "  if (distutils.version.LooseVersion(tf.__version__) <\n",
            "/usr/local/lib/python3.10/dist-packages/google/rpc/__init__.py:20: DeprecationWarning: Deprecated call to `pkg_resources.declare_namespace('google.rpc')`.\n",
            "Implementing implicit namespace packages (as specified in PEP 420) is preferred to `pkg_resources.declare_namespace`. See https://setuptools.pypa.io/en/latest/references/keywords.html#keyword-namespace-packages\n",
            "  pkg_resources.declare_namespace(__name__)\n",
            "/usr/local/lib/python3.10/dist-packages/pkg_resources/__init__.py:2349: DeprecationWarning: Deprecated call to `pkg_resources.declare_namespace('google')`.\n",
            "Implementing implicit namespace packages (as specified in PEP 420) is preferred to `pkg_resources.declare_namespace`. See https://setuptools.pypa.io/en/latest/references/keywords.html#keyword-namespace-packages\n",
            "  declare_namespace(parent)\n"
          ]
        }
      ],
      "source": [
        "from ray.rllib.algorithms.ddpg.ddpg import DDPGConfig\n",
        "from ray.rllib.algorithms.a2c import A2CConfig\n",
        "from ray.rllib.algorithms.td3 import TD3Config\n",
        "from ray.rllib.algorithms.ppo import PPOConfig"
      ]
    },
    {
      "cell_type": "markdown",
      "metadata": {
        "id": "RXmCENNMe9f8"
      },
      "source": [
        "###Starting Local Ray Instance"
      ]
    },
    {
      "cell_type": "code",
      "execution_count": null,
      "metadata": {
        "colab": {
          "base_uri": "https://localhost:8080/",
          "height": 99
        },
        "id": "kjRgJ-kzcqly",
        "outputId": "0158710f-cc68-4a05-9ac6-2cdac075ffb6"
      },
      "outputs": [
        {
          "output_type": "stream",
          "name": "stderr",
          "text": [
            "2023-05-12 03:51:13,310\tINFO worker.py:1616 -- Started a local Ray instance. View the dashboard at \u001b[1m\u001b[32m127.0.0.1:8265 \u001b[39m\u001b[22m\n"
          ]
        },
        {
          "output_type": "execute_result",
          "data": {
            "text/plain": [
              "RayContext(dashboard_url='127.0.0.1:8265', python_version='3.10.11', ray_version='2.4.0', ray_commit='4479f66d4db967d3c9dd0af2572061276ba926ba', address_info={'node_ip_address': '172.28.0.12', 'raylet_ip_address': '172.28.0.12', 'redis_address': None, 'object_store_address': '/tmp/ray/session_2023-05-12_03-51-10_931038_1197/sockets/plasma_store', 'raylet_socket_name': '/tmp/ray/session_2023-05-12_03-51-10_931038_1197/sockets/raylet', 'webui_url': '127.0.0.1:8265', 'session_dir': '/tmp/ray/session_2023-05-12_03-51-10_931038_1197', 'metrics_export_port': 63556, 'gcs_address': '172.28.0.12:64681', 'address': '172.28.0.12:64681', 'dashboard_agent_listen_port': 52365, 'node_id': '9e82487505436788215f53c646b1e80ac03b39068ad19cf387bcadf6'})"
            ],
            "text/html": [
              "<div>\n",
              "    <div style=\"margin-left: 50px;display: flex;flex-direction: row;align-items: center\">\n",
              "        <h3 style=\"color: var(--jp-ui-font-color0)\">Ray</h3>\n",
              "        <svg version=\"1.1\" id=\"ray\" width=\"3em\" viewBox=\"0 0 144.5 144.6\" style=\"margin-left: 3em;margin-right: 3em\">\n",
              "            <g id=\"layer-1\">\n",
              "                <path fill=\"#00a2e9\" class=\"st0\" d=\"M97.3,77.2c-3.8-1.1-6.2,0.9-8.3,5.1c-3.5,6.8-9.9,9.9-17.4,9.6S58,88.1,54.8,81.2c-1.4-3-3-4-6.3-4.1\n",
              "                    c-5.6-0.1-9.9,0.1-13.1,6.4c-3.8,7.6-13.6,10.2-21.8,7.6C5.2,88.4-0.4,80.5,0,71.7c0.1-8.4,5.7-15.8,13.8-18.2\n",
              "                    c8.4-2.6,17.5,0.7,22.3,8c1.3,1.9,1.3,5.2,3.6,5.6c3.9,0.6,8,0.2,12,0.2c1.8,0,1.9-1.6,2.4-2.8c3.5-7.8,9.7-11.8,18-11.9\n",
              "                    c8.2-0.1,14.4,3.9,17.8,11.4c1.3,2.8,2.9,3.6,5.7,3.3c1-0.1,2,0.1,3,0c2.8-0.5,6.4,1.7,8.1-2.7s-2.3-5.5-4.1-7.5\n",
              "                    c-5.1-5.7-10.9-10.8-16.1-16.3C84,38,81.9,37.1,78,38.3C66.7,42,56.2,35.7,53,24.1C50.3,14,57.3,2.8,67.7,0.5\n",
              "                    C78.4-2,89,4.7,91.5,15.3c0.1,0.3,0.1,0.5,0.2,0.8c0.7,3.4,0.7,6.9-0.8,9.8c-1.7,3.2-0.8,5,1.5,7.2c6.7,6.5,13.3,13,19.8,19.7\n",
              "                    c1.8,1.8,3,2.1,5.5,1.2c9.1-3.4,17.9-0.6,23.4,7c4.8,6.9,4.6,16.1-0.4,22.9c-5.4,7.2-14.2,9.9-23.1,6.5c-2.3-0.9-3.5-0.6-5.1,1.1\n",
              "                    c-6.7,6.9-13.6,13.7-20.5,20.4c-1.8,1.8-2.5,3.2-1.4,5.9c3.5,8.7,0.3,18.6-7.7,23.6c-7.9,5-18.2,3.8-24.8-2.9\n",
              "                    c-6.4-6.4-7.4-16.2-2.5-24.3c4.9-7.8,14.5-11,23.1-7.8c3,1.1,4.7,0.5,6.9-1.7C91.7,98.4,98,92.3,104.2,86c1.6-1.6,4.1-2.7,2.6-6.2\n",
              "                    c-1.4-3.3-3.8-2.5-6.2-2.6C99.8,77.2,98.9,77.2,97.3,77.2z M72.1,29.7c5.5,0.1,9.9-4.3,10-9.8c0-0.1,0-0.2,0-0.3\n",
              "                    C81.8,14,77,9.8,71.5,10.2c-5,0.3-9,4.2-9.3,9.2c-0.2,5.5,4,10.1,9.5,10.3C71.8,29.7,72,29.7,72.1,29.7z M72.3,62.3\n",
              "                    c-5.4-0.1-9.9,4.2-10.1,9.7c0,0.2,0,0.3,0,0.5c0.2,5.4,4.5,9.7,9.9,10c5.1,0.1,9.9-4.7,10.1-9.8c0.2-5.5-4-10-9.5-10.3\n",
              "                    C72.6,62.3,72.4,62.3,72.3,62.3z M115,72.5c0.1,5.4,4.5,9.7,9.8,9.9c5.6-0.2,10-4.8,10-10.4c-0.2-5.4-4.6-9.7-10-9.7\n",
              "                    c-5.3-0.1-9.8,4.2-9.9,9.5C115,72.1,115,72.3,115,72.5z M19.5,62.3c-5.4,0.1-9.8,4.4-10,9.8c-0.1,5.1,5.2,10.4,10.2,10.3\n",
              "                    c5.6-0.2,10-4.9,9.8-10.5c-0.1-5.4-4.5-9.7-9.9-9.6C19.6,62.3,19.5,62.3,19.5,62.3z M71.8,134.6c5.9,0.2,10.3-3.9,10.4-9.6\n",
              "                    c0.5-5.5-3.6-10.4-9.1-10.8c-5.5-0.5-10.4,3.6-10.8,9.1c0,0.5,0,0.9,0,1.4c-0.2,5.3,4,9.8,9.3,10\n",
              "                    C71.6,134.6,71.7,134.6,71.8,134.6z\"/>\n",
              "            </g>\n",
              "        </svg>\n",
              "        <table>\n",
              "            <tr>\n",
              "                <td style=\"text-align: left\"><b>Python version:</b></td>\n",
              "                <td style=\"text-align: left\"><b>3.10.11</b></td>\n",
              "            </tr>\n",
              "            <tr>\n",
              "                <td style=\"text-align: left\"><b>Ray version:</b></td>\n",
              "                <td style=\"text-align: left\"><b> 2.4.0</b></td>\n",
              "            </tr>\n",
              "            <tr>\n",
              "    <td style=\"text-align: left\"><b>Dashboard:</b></td>\n",
              "    <td style=\"text-align: left\"><b><a href=\"http://127.0.0.1:8265\" target=\"_blank\">http://127.0.0.1:8265</a></b></td>\n",
              "</tr>\n",
              "\n",
              "        </table>\n",
              "    </div>\n",
              "</div>\n"
            ]
          },
          "metadata": {},
          "execution_count": 7
        }
      ],
      "source": [
        "if ray.is_initialized():\n",
        "  ray.shutdown()\n",
        "\n",
        "ray.init(ignore_reinit_error=True)"
      ]
    },
    {
      "cell_type": "code",
      "execution_count": null,
      "metadata": {
        "colab": {
          "base_uri": "https://localhost:8080/"
        },
        "id": "eZQndELqBLdG",
        "outputId": "bf1d534f-2a5b-4fe9-fc85-aec6b42f0bf3"
      },
      "outputs": [
        {
          "output_type": "stream",
          "name": "stderr",
          "text": [
            "/usr/local/lib/python3.10/dist-packages/pexpect/popen_spawn.py:60: DeprecationWarning: setDaemon() is deprecated, set the daemon attribute instead\n",
            "  self._read_thread.setDaemon(True)\n"
          ]
        },
        {
          "output_type": "stream",
          "name": "stdout",
          "text": [
            "Mounted at /content/drive\n"
          ]
        }
      ],
      "source": [
        "from google.colab import drive\n",
        "drive.mount('/content/drive')"
      ]
    },
    {
      "cell_type": "markdown",
      "metadata": {
        "id": "lg2Zv1B9fKL0"
      },
      "source": [
        "#Question-1"
      ]
    },
    {
      "cell_type": "markdown",
      "metadata": {
        "id": "ky5x4VVUfMt4"
      },
      "source": [
        "Reproduce the results given in Section 6.1 of the paper for three gym environments namely, Ant, HalfCheetah and Walker 2D.\n",
        "\n",
        "I am running the algorithm only for 50 iterations due to lack of time. Hence there is considerable amount of difference from the original results. However the hyperparameters given in the paper are same (Original PPO paper) remaining I set it as default."
      ]
    },
    {
      "cell_type": "markdown",
      "metadata": {
        "id": "qG0LXW_OFP6B"
      },
      "source": [
        "###Ant - PPO, A2C"
      ]
    },
    {
      "cell_type": "code",
      "execution_count": null,
      "metadata": {
        "colab": {
          "base_uri": "https://localhost:8080/"
        },
        "id": "-PRjyhTmcqjc",
        "outputId": "bfd0076f-9e90-4946-e182-6d905bd1cde5"
      },
      "outputs": [
        {
          "name": "stderr",
          "output_type": "stream",
          "text": [
            "2023-05-11 09:05:04,984\tINFO algorithm.py:527 -- Current log_level is WARN. For more information, set 'log_level': 'INFO' / 'DEBUG' or use the -v and -vv flags.\n",
            "\u001b[2m\u001b[36m(pid=3437)\u001b[0m /usr/local/lib/python3.10/dist-packages/tensorflow_probability/python/__init__.py:57: DeprecationWarning: distutils Version classes are deprecated. Use packaging.version instead.\n",
            "\u001b[2m\u001b[36m(pid=3437)\u001b[0m   if (distutils.version.LooseVersion(tf.__version__) <\n",
            "\u001b[2m\u001b[36m(pid=3437)\u001b[0m /usr/local/lib/python3.10/dist-packages/google/rpc/__init__.py:20: DeprecationWarning: Deprecated call to `pkg_resources.declare_namespace('google.rpc')`.\n",
            "\u001b[2m\u001b[36m(pid=3437)\u001b[0m Implementing implicit namespace packages (as specified in PEP 420) is preferred to `pkg_resources.declare_namespace`. See https://setuptools.pypa.io/en/latest/references/keywords.html#keyword-namespace-packages\n",
            "\u001b[2m\u001b[36m(pid=3437)\u001b[0m   pkg_resources.declare_namespace(__name__)\n",
            "\u001b[2m\u001b[36m(pid=3437)\u001b[0m /usr/local/lib/python3.10/dist-packages/pkg_resources/__init__.py:2349: DeprecationWarning: Deprecated call to `pkg_resources.declare_namespace('google')`.\n",
            "\u001b[2m\u001b[36m(pid=3437)\u001b[0m Implementing implicit namespace packages (as specified in PEP 420) is preferred to `pkg_resources.declare_namespace`. See https://setuptools.pypa.io/en/latest/references/keywords.html#keyword-namespace-packages\n",
            "\u001b[2m\u001b[36m(pid=3437)\u001b[0m   declare_namespace(parent)\n",
            "2023-05-11 09:05:11,458\tWARNING util.py:67 -- Install gputil for GPU system monitoring.\n"
          ]
        },
        {
          "name": "stdout",
          "output_type": "stream",
          "text": [
            "Iteration: 1\n",
            "Iteration: 2\n",
            "Iteration: 3\n",
            "Iteration: 4\n",
            "Iteration: 5\n",
            "Iteration: 6\n",
            "Iteration: 7\n",
            "Iteration: 8\n",
            "Iteration: 9\n",
            "Iteration: 10\n",
            "Iteration: 11\n",
            "Iteration: 12\n",
            "Iteration: 13\n",
            "Iteration: 14\n",
            "Iteration: 15\n",
            "Iteration: 16\n",
            "Iteration: 17\n",
            "Iteration: 18\n",
            "Iteration: 19\n",
            "Iteration: 20\n",
            "Iteration: 21\n",
            "Iteration: 22\n",
            "Iteration: 23\n",
            "Iteration: 24\n",
            "Iteration: 25\n",
            "Iteration: 26\n",
            "Iteration: 27\n",
            "Iteration: 28\n",
            "Iteration: 29\n",
            "Iteration: 30\n",
            "Iteration: 31\n",
            "Iteration: 32\n",
            "Iteration: 33\n",
            "Iteration: 34\n",
            "Iteration: 35\n",
            "Iteration: 36\n",
            "Iteration: 37\n",
            "Iteration: 38\n",
            "Iteration: 39\n",
            "Iteration: 40\n",
            "Iteration: 41\n",
            "Iteration: 42\n",
            "Iteration: 43\n",
            "Iteration: 44\n",
            "Iteration: 45\n",
            "Iteration: 46\n",
            "Iteration: 47\n",
            "Iteration: 48\n",
            "Iteration: 49\n",
            "Iteration: 50\n"
          ]
        }
      ],
      "source": [
        "algo = (\n",
        "    PPOConfig()\n",
        "    .training(lr=3e-4, sgd_minibatch_size=64, num_sgd_iter=10, clip_param=0.2) #These are the hyperparameters given in the original PPO paper\n",
        "    .rollouts(num_rollout_workers=1, rollout_fragment_length=2048)\n",
        "    .resources(num_learner_workers=1, num_cpus_per_worker=1)\n",
        "    .environment(env=\"Ant-v4\")\n",
        "    .build()\n",
        ")\n",
        "\n",
        "rewards1_ant_PPO = []\n",
        "\n",
        "for i in range(50):\n",
        "    result = algo.train()\n",
        "    rewards1_ant_PPO.append(result['episode_reward_mean'])\n",
        "    print(\"Iteration: \" + str(i+1))\n",
        "\n",
        "ray.shutdown()"
      ]
    },
    {
      "cell_type": "code",
      "execution_count": null,
      "metadata": {
        "id": "j9g8X73UfB7x"
      },
      "outputs": [],
      "source": [
        "data = {'Average Reward Per Episode': rewards1_ant_PPO}\n",
        "df = pd.DataFrame(data)\n",
        "df.to_csv('/content/drive/MyDrive/CS533/Lab_4/Ant_PPO_1.csv') "
      ]
    },
    {
      "cell_type": "code",
      "execution_count": null,
      "metadata": {
        "colab": {
          "base_uri": "https://localhost:8080/"
        },
        "id": "dfDfo8C_fB5X",
        "outputId": "0f57725c-6585-4fa7-9e04-88b4a3d3b463"
      },
      "outputs": [
        {
          "name": "stderr",
          "output_type": "stream",
          "text": [
            "2023-05-11 09:20:12,859\tINFO worker.py:1616 -- Started a local Ray instance. View the dashboard at \u001b[1m\u001b[32m127.0.0.1:8265 \u001b[39m\u001b[22m\n",
            "\u001b[2m\u001b[36m(pid=7726)\u001b[0m /usr/local/lib/python3.10/dist-packages/tensorflow_probability/python/__init__.py:57: DeprecationWarning: distutils Version classes are deprecated. Use packaging.version instead.\n",
            "\u001b[2m\u001b[36m(pid=7726)\u001b[0m   if (distutils.version.LooseVersion(tf.__version__) <\n",
            "\u001b[2m\u001b[36m(pid=7726)\u001b[0m /usr/local/lib/python3.10/dist-packages/google/rpc/__init__.py:20: DeprecationWarning: Deprecated call to `pkg_resources.declare_namespace('google.rpc')`.\n",
            "\u001b[2m\u001b[36m(pid=7726)\u001b[0m Implementing implicit namespace packages (as specified in PEP 420) is preferred to `pkg_resources.declare_namespace`. See https://setuptools.pypa.io/en/latest/references/keywords.html#keyword-namespace-packages\n",
            "\u001b[2m\u001b[36m(pid=7726)\u001b[0m   pkg_resources.declare_namespace(__name__)\n",
            "\u001b[2m\u001b[36m(pid=7726)\u001b[0m /usr/local/lib/python3.10/dist-packages/pkg_resources/__init__.py:2349: DeprecationWarning: Deprecated call to `pkg_resources.declare_namespace('google')`.\n",
            "\u001b[2m\u001b[36m(pid=7726)\u001b[0m Implementing implicit namespace packages (as specified in PEP 420) is preferred to `pkg_resources.declare_namespace`. See https://setuptools.pypa.io/en/latest/references/keywords.html#keyword-namespace-packages\n",
            "\u001b[2m\u001b[36m(pid=7726)\u001b[0m   declare_namespace(parent)\n",
            "2023-05-11 09:20:20,620\tINFO trainable.py:172 -- Trainable.setup took 10.017 seconds. If your trainable is slow to initialize, consider setting reuse_actors=True to reduce actor creation overheads.\n",
            "2023-05-11 09:20:20,623\tWARNING util.py:67 -- Install gputil for GPU system monitoring.\n"
          ]
        },
        {
          "name": "stdout",
          "output_type": "stream",
          "text": [
            "Iteration: 1\n",
            "Iteration: 2\n",
            "Iteration: 3\n",
            "Iteration: 4\n",
            "Iteration: 5\n",
            "Iteration: 6\n",
            "Iteration: 7\n",
            "Iteration: 8\n",
            "Iteration: 9\n",
            "Iteration: 10\n",
            "Iteration: 11\n",
            "Iteration: 12\n",
            "Iteration: 13\n",
            "Iteration: 14\n",
            "Iteration: 15\n",
            "Iteration: 16\n",
            "Iteration: 17\n",
            "Iteration: 18\n",
            "Iteration: 19\n",
            "Iteration: 20\n",
            "Iteration: 21\n",
            "Iteration: 22\n",
            "Iteration: 23\n",
            "Iteration: 24\n",
            "Iteration: 25\n",
            "Iteration: 26\n",
            "Iteration: 27\n",
            "Iteration: 28\n",
            "Iteration: 29\n",
            "Iteration: 30\n",
            "Iteration: 31\n",
            "Iteration: 32\n",
            "Iteration: 33\n",
            "Iteration: 34\n",
            "Iteration: 35\n",
            "Iteration: 36\n",
            "Iteration: 37\n",
            "Iteration: 38\n",
            "Iteration: 39\n",
            "Iteration: 40\n",
            "Iteration: 41\n",
            "Iteration: 42\n",
            "Iteration: 43\n",
            "Iteration: 44\n",
            "Iteration: 45\n",
            "Iteration: 46\n",
            "Iteration: 47\n",
            "Iteration: 48\n",
            "Iteration: 49\n",
            "Iteration: 50\n"
          ]
        }
      ],
      "source": [
        "algo = (\n",
        "    A2CConfig()\n",
        "    #.training(lr=3e-4, sgd_minibatch_size=64, num_sgd_iter=10, clip_param=0.2) #These are the hyperparameters given in the original PPO paper\n",
        "    .rollouts(num_rollout_workers=1)\n",
        "    .resources(num_learner_workers=1, num_cpus_per_worker=1)\n",
        "    .environment(env=\"Ant-v4\")\n",
        "    .build()\n",
        ")\n",
        "\n",
        "rewards1_ant_A2C = []\n",
        "\n",
        "for i in range(50):\n",
        "    result = algo.train()\n",
        "    rewards1_ant_A2C.append(result['episode_reward_mean'])\n",
        "    print(\"Iteration: \" + str(i+1))\n",
        "\n",
        "ray.shutdown()"
      ]
    },
    {
      "cell_type": "code",
      "execution_count": null,
      "metadata": {
        "id": "fNh3zq6TfB20"
      },
      "outputs": [],
      "source": [
        "data = {'Average Reward Per Episode': rewards1_ant_A2C}\n",
        "df = pd.DataFrame(data)\n",
        "df.to_csv('/content/drive/MyDrive/CS533/Lab_4/Ant_A2C_1.csv')"
      ]
    },
    {
      "cell_type": "code",
      "execution_count": null,
      "metadata": {
        "colab": {
          "base_uri": "https://localhost:8080/",
          "height": 526
        },
        "id": "GjWzpQbaFHH5",
        "outputId": "0a05f734-0a72-4aa9-e844-2c9bcdbd2a7e"
      },
      "outputs": [
        {
          "name": "stderr",
          "output_type": "stream",
          "text": [
            "/usr/local/lib/python3.10/dist-packages/ipykernel/ipkernel.py:283: DeprecationWarning: `should_run_async` will not call `transform_cell` automatically in the future. Please pass the result to `transformed_cell` argument and any exception that happen during thetransform in `preprocessing_exc_tuple` in IPython 7.17 and above.\n",
            "  and should_run_async(code)\n"
          ]
        },
        {
          "data": {
            "image/png": "[encoded data removed]",
            "text/plain": [
              "<Figure size 640x480 with 1 Axes>"
            ]
          },
          "metadata": {},
          "output_type": "display_data"
        }
      ],
      "source": [
        "# PPO - 14min , A2C - 8 min\n",
        "#PLOT\n",
        "data1 = pd.read_csv('/content/drive/MyDrive/CS533/Lab_4/Ant_PPO_1.csv')[\"Average Reward Per Episode\"]\n",
        "data2 = pd.read_csv('/content/drive/MyDrive/CS533/Lab_4/Ant_A2C_1.csv')[\"Average Reward Per Episode\"]\n",
        "\n",
        "data1 = np.array(data1)\n",
        "data2 = np.array(data2)\n",
        "\n",
        "plt.plot(4000*np.arange(1,len(data1)+1), np.cumsum(data1)/np.cumsum(np.ones(len(data1))),label='PPO')\n",
        "plt.plot(4000*np.arange(1,len(data2)+1),np.cumsum(data2)/np.cumsum(np.ones(len(data2))),label='A2C')\n",
        "plt.title(\"Ant-v4\")\n",
        "plt.xlabel(\"Timesteps\")\n",
        "plt.ylabel(\"Average Episode Reward\")\n",
        "plt.legend()\n",
        "plt.show()"
      ]
    },
    {
      "cell_type": "markdown",
      "metadata": {
        "id": "XXoPA2S2tEwP"
      },
      "source": [
        "###Observations:\n",
        "\n",
        "1. For Ant Environment A2C outperforms PPO.\n",
        "2. A2C is bit unstable compared to PPO in terms of learning\n",
        "3. PPO is stable relatively\n"
      ]
    },
    {
      "cell_type": "markdown",
      "metadata": {
        "id": "b7ltLvQoFglO"
      },
      "source": [
        "###Half-Cheetah - PPO, A2C"
      ]
    },
    {
      "cell_type": "code",
      "execution_count": null,
      "metadata": {
        "colab": {
          "base_uri": "https://localhost:8080/"
        },
        "id": "H9NYKA-FFHEy",
        "outputId": "8f81e771-a8cb-4d10-a2fa-f14469e92173"
      },
      "outputs": [
        {
          "name": "stderr",
          "output_type": "stream",
          "text": [
            "2023-05-11 09:29:28,808\tINFO worker.py:1616 -- Started a local Ray instance. View the dashboard at \u001b[1m\u001b[32m127.0.0.1:8265 \u001b[39m\u001b[22m\n",
            "\u001b[2m\u001b[36m(pid=10476)\u001b[0m /usr/local/lib/python3.10/dist-packages/tensorflow_probability/python/__init__.py:57: DeprecationWarning: distutils Version classes are deprecated. Use packaging.version instead.\n",
            "\u001b[2m\u001b[36m(pid=10476)\u001b[0m   if (distutils.version.LooseVersion(tf.__version__) <\n",
            "\u001b[2m\u001b[36m(pid=10476)\u001b[0m /usr/local/lib/python3.10/dist-packages/google/rpc/__init__.py:20: DeprecationWarning: Deprecated call to `pkg_resources.declare_namespace('google.rpc')`.\n",
            "\u001b[2m\u001b[36m(pid=10476)\u001b[0m Implementing implicit namespace packages (as specified in PEP 420) is preferred to `pkg_resources.declare_namespace`. See https://setuptools.pypa.io/en/latest/references/keywords.html#keyword-namespace-packages\n",
            "\u001b[2m\u001b[36m(pid=10476)\u001b[0m   pkg_resources.declare_namespace(__name__)\n",
            "\u001b[2m\u001b[36m(pid=10476)\u001b[0m /usr/local/lib/python3.10/dist-packages/pkg_resources/__init__.py:2349: DeprecationWarning: Deprecated call to `pkg_resources.declare_namespace('google')`.\n",
            "\u001b[2m\u001b[36m(pid=10476)\u001b[0m Implementing implicit namespace packages (as specified in PEP 420) is preferred to `pkg_resources.declare_namespace`. See https://setuptools.pypa.io/en/latest/references/keywords.html#keyword-namespace-packages\n",
            "\u001b[2m\u001b[36m(pid=10476)\u001b[0m   declare_namespace(parent)\n",
            "2023-05-11 09:29:38,784\tINFO trainable.py:172 -- Trainable.setup took 12.229 seconds. If your trainable is slow to initialize, consider setting reuse_actors=True to reduce actor creation overheads.\n",
            "2023-05-11 09:29:38,787\tWARNING util.py:67 -- Install gputil for GPU system monitoring.\n"
          ]
        },
        {
          "name": "stdout",
          "output_type": "stream",
          "text": [
            "Iteration: 1\n",
            "Iteration: 2\n",
            "Iteration: 3\n",
            "Iteration: 4\n",
            "Iteration: 5\n",
            "Iteration: 6\n",
            "Iteration: 7\n",
            "Iteration: 8\n",
            "Iteration: 9\n",
            "Iteration: 10\n",
            "Iteration: 11\n",
            "Iteration: 12\n",
            "Iteration: 13\n",
            "Iteration: 14\n",
            "Iteration: 15\n",
            "Iteration: 16\n",
            "Iteration: 17\n",
            "Iteration: 18\n",
            "Iteration: 19\n",
            "Iteration: 20\n",
            "Iteration: 21\n",
            "Iteration: 22\n",
            "Iteration: 23\n",
            "Iteration: 24\n",
            "Iteration: 25\n",
            "Iteration: 26\n",
            "Iteration: 27\n",
            "Iteration: 28\n",
            "Iteration: 29\n",
            "Iteration: 30\n",
            "Iteration: 31\n",
            "Iteration: 32\n",
            "Iteration: 33\n",
            "Iteration: 34\n",
            "Iteration: 35\n",
            "Iteration: 36\n",
            "Iteration: 37\n",
            "Iteration: 38\n",
            "Iteration: 39\n",
            "Iteration: 40\n",
            "Iteration: 41\n",
            "Iteration: 42\n",
            "Iteration: 43\n",
            "Iteration: 44\n",
            "Iteration: 45\n",
            "Iteration: 46\n",
            "Iteration: 47\n",
            "Iteration: 48\n",
            "Iteration: 49\n",
            "Iteration: 50\n"
          ]
        }
      ],
      "source": [
        "algo = (\n",
        "    PPOConfig()\n",
        "    .training(lr=3e-4, sgd_minibatch_size=64, num_sgd_iter=10, clip_param=0.2) #These are the hyperparameters given in the original PPO paper\n",
        "    .rollouts(num_rollout_workers=1, rollout_fragment_length=2048)\n",
        "    .resources(num_learner_workers=1, num_cpus_per_worker=2)\n",
        "    .environment(env = \"HalfCheetah-v4\")\n",
        "    .build()\n",
        ")\n",
        "\n",
        "rewards1_HalfCheetah_PPO = []\n",
        "\n",
        "for i in range(50):\n",
        "    result = algo.train()\n",
        "    rewards1_HalfCheetah_PPO.append(result['episode_reward_mean'])\n",
        "    print(\"Iteration: \" + str(i+1))\n",
        "\n",
        "ray.shutdown()"
      ]
    },
    {
      "cell_type": "code",
      "execution_count": null,
      "metadata": {
        "id": "WFMA9vyUFHCM"
      },
      "outputs": [],
      "source": [
        "data = {'Average Reward Per Episode': rewards1_HalfCheetah_PPO}\n",
        "df = pd.DataFrame(data)\n",
        "df.to_csv('/content/drive/MyDrive/CS533/Lab_4/HalfCheetah_PPO_1.csv')"
      ]
    },
    {
      "cell_type": "code",
      "execution_count": null,
      "metadata": {
        "colab": {
          "base_uri": "https://localhost:8080/"
        },
        "id": "Z_847QaOfB0u",
        "outputId": "59288c83-8366-4eff-8a59-050b3d5960d7"
      },
      "outputs": [
        {
          "name": "stderr",
          "output_type": "stream",
          "text": [
            "2023-05-11 09:44:04,848\tINFO worker.py:1616 -- Started a local Ray instance. View the dashboard at \u001b[1m\u001b[32m127.0.0.1:8265 \u001b[39m\u001b[22m\n",
            "\u001b[2m\u001b[36m(pid=14599)\u001b[0m /usr/local/lib/python3.10/dist-packages/tensorflow_probability/python/__init__.py:57: DeprecationWarning: distutils Version classes are deprecated. Use packaging.version instead.\n",
            "\u001b[2m\u001b[36m(pid=14599)\u001b[0m   if (distutils.version.LooseVersion(tf.__version__) <\n",
            "\u001b[2m\u001b[36m(pid=14599)\u001b[0m /usr/local/lib/python3.10/dist-packages/google/rpc/__init__.py:20: DeprecationWarning: Deprecated call to `pkg_resources.declare_namespace('google.rpc')`.\n",
            "\u001b[2m\u001b[36m(pid=14599)\u001b[0m Implementing implicit namespace packages (as specified in PEP 420) is preferred to `pkg_resources.declare_namespace`. See https://setuptools.pypa.io/en/latest/references/keywords.html#keyword-namespace-packages\n",
            "\u001b[2m\u001b[36m(pid=14599)\u001b[0m   pkg_resources.declare_namespace(__name__)\n",
            "\u001b[2m\u001b[36m(pid=14599)\u001b[0m /usr/local/lib/python3.10/dist-packages/pkg_resources/__init__.py:2349: DeprecationWarning: Deprecated call to `pkg_resources.declare_namespace('google')`.\n",
            "\u001b[2m\u001b[36m(pid=14599)\u001b[0m Implementing implicit namespace packages (as specified in PEP 420) is preferred to `pkg_resources.declare_namespace`. See https://setuptools.pypa.io/en/latest/references/keywords.html#keyword-namespace-packages\n",
            "\u001b[2m\u001b[36m(pid=14599)\u001b[0m   declare_namespace(parent)\n",
            "2023-05-11 09:44:17,403\tINFO trainable.py:172 -- Trainable.setup took 14.840 seconds. If your trainable is slow to initialize, consider setting reuse_actors=True to reduce actor creation overheads.\n",
            "2023-05-11 09:44:17,406\tWARNING util.py:67 -- Install gputil for GPU system monitoring.\n"
          ]
        },
        {
          "name": "stdout",
          "output_type": "stream",
          "text": [
            "Iteration: 1\n",
            "Iteration: 2\n",
            "Iteration: 3\n",
            "Iteration: 4\n",
            "Iteration: 5\n",
            "Iteration: 6\n",
            "Iteration: 7\n",
            "Iteration: 8\n",
            "Iteration: 9\n",
            "Iteration: 10\n",
            "Iteration: 11\n",
            "Iteration: 12\n",
            "Iteration: 13\n",
            "Iteration: 14\n",
            "Iteration: 15\n",
            "Iteration: 16\n",
            "Iteration: 17\n",
            "Iteration: 18\n",
            "Iteration: 19\n",
            "Iteration: 20\n",
            "Iteration: 21\n",
            "Iteration: 22\n",
            "Iteration: 23\n",
            "Iteration: 24\n",
            "Iteration: 25\n",
            "Iteration: 26\n",
            "Iteration: 27\n",
            "Iteration: 28\n",
            "Iteration: 29\n",
            "Iteration: 30\n",
            "Iteration: 31\n",
            "Iteration: 32\n",
            "Iteration: 33\n",
            "Iteration: 34\n",
            "Iteration: 35\n",
            "Iteration: 36\n",
            "Iteration: 37\n",
            "Iteration: 38\n",
            "Iteration: 39\n",
            "Iteration: 40\n",
            "Iteration: 41\n",
            "Iteration: 42\n",
            "Iteration: 43\n",
            "Iteration: 44\n",
            "Iteration: 45\n",
            "Iteration: 46\n",
            "Iteration: 47\n",
            "Iteration: 48\n",
            "Iteration: 49\n",
            "Iteration: 50\n"
          ]
        }
      ],
      "source": [
        "algo = (\n",
        "    A2CConfig()\n",
        "    #.training(lr=3e-4, sgd_minibatch_size=64, num_sgd_iter=10, clip_param=0.2) #These are the hyperparameters given in the original PPO paper\n",
        "    .rollouts(num_rollout_workers=1)\n",
        "    .resources(num_learner_workers=1, num_cpus_per_worker=1)\n",
        "    .environment(env=\"HalfCheetah-v4\")\n",
        "    .build()\n",
        ")\n",
        "\n",
        "rewards1_HalfCheetah_A2C = []\n",
        "\n",
        "for i in range(50):\n",
        "    result = algo.train()\n",
        "    rewards1_HalfCheetah_A2C.append(result['episode_reward_mean'])\n",
        "    print(\"Iteration: \" + str(i+1))\n",
        "\n",
        "ray.shutdown()"
      ]
    },
    {
      "cell_type": "code",
      "execution_count": null,
      "metadata": {
        "colab": {
          "base_uri": "https://localhost:8080/"
        },
        "id": "48zrX6zDG1yB",
        "outputId": "e3e52d07-24a1-4a74-dc34-c21784bba02d"
      },
      "outputs": [
        {
          "name": "stderr",
          "output_type": "stream",
          "text": [
            "/usr/local/lib/python3.10/dist-packages/ipykernel/ipkernel.py:283: DeprecationWarning: `should_run_async` will not call `transform_cell` automatically in the future. Please pass the result to `transformed_cell` argument and any exception that happen during thetransform in `preprocessing_exc_tuple` in IPython 7.17 and above.\n",
            "  and should_run_async(code)\n"
          ]
        }
      ],
      "source": [
        "data = {'Average Reward Per Episode': rewards1_HalfCheetah_A2C}\n",
        "df = pd.DataFrame(data)\n",
        "df.to_csv('/content/drive/MyDrive/CS533/Lab_4/HalfCheetah_A2C_1.csv')"
      ]
    },
    {
      "cell_type": "code",
      "execution_count": null,
      "metadata": {
        "colab": {
          "base_uri": "https://localhost:8080/",
          "height": 472
        },
        "id": "AuGWfPYkHwak",
        "outputId": "77543bab-190f-43b4-8f78-de139ca22382"
      },
      "outputs": [
        {
          "data": {
            "image/png": "[encoded data removed]",
            "text/plain": [
              "<Figure size 640x480 with 1 Axes>"
            ]
          },
          "metadata": {},
          "output_type": "display_data"
        }
      ],
      "source": [
        "#PPO - 12 min, A2C - 8 min\n",
        "\n",
        "#PLOT\n",
        "\n",
        "data1 = pd.read_csv('/content/drive/MyDrive/CS533/Lab_4/HalfCheetah_PPO_1.csv')[\"Average Reward Per Episode\"]\n",
        "data2 = pd.read_csv('/content/drive/MyDrive/CS533/Lab_4/HalfCheetah_A2C_1.csv')[\"Average Reward Per Episode\"]\n",
        "\n",
        "data1 = np.array(data1)\n",
        "data2 = np.array(data2)\n",
        "\n",
        "plt.plot(4000*np.arange(1,len(data1)+1), np.cumsum(data1)/np.cumsum(np.ones(len(data1))),label='PPO')\n",
        "plt.plot(4000*np.arange(1,len(data2)+1),np.cumsum(data2)/np.cumsum(np.ones(len(data2))),label='A2C')\n",
        "plt.title(\"HalfCheetah\")\n",
        "plt.xlabel(\"Timesteps\")\n",
        "plt.ylabel(\"Average Episode Reward\")\n",
        "plt.legend()\n",
        "plt.show()"
      ]
    },
    {
      "cell_type": "markdown",
      "metadata": {
        "id": "Q0EJ7J1TuU4P"
      },
      "source": [
        "###Observations:\n",
        "\n",
        "1. For HalfCheetah Environment PPO outperforms A2C. Since it is relatively less complex environment\n",
        "2. Again A2C is bit unstable compared to PPO in terms of learning\n",
        "3. Again PPO is stable relatively\n"
      ]
    },
    {
      "cell_type": "markdown",
      "metadata": {
        "id": "UEun2NdpH5PZ"
      },
      "source": [
        "###Walker-2D - PPO, A2C"
      ]
    },
    {
      "cell_type": "code",
      "execution_count": null,
      "metadata": {
        "colab": {
          "base_uri": "https://localhost:8080/"
        },
        "id": "0rxBTQt4HyuR",
        "outputId": "0ba07af1-a94f-458d-e618-5c6135a2e08c"
      },
      "outputs": [
        {
          "name": "stderr",
          "output_type": "stream",
          "text": [
            "2023-05-11 09:53:24,741\tINFO worker.py:1616 -- Started a local Ray instance. View the dashboard at \u001b[1m\u001b[32m127.0.0.1:8265 \u001b[39m\u001b[22m\n",
            "\u001b[2m\u001b[36m(pid=17341)\u001b[0m /usr/local/lib/python3.10/dist-packages/tensorflow_probability/python/__init__.py:57: DeprecationWarning: distutils Version classes are deprecated. Use packaging.version instead.\n",
            "\u001b[2m\u001b[36m(pid=17341)\u001b[0m   if (distutils.version.LooseVersion(tf.__version__) <\n",
            "\u001b[2m\u001b[36m(pid=17341)\u001b[0m /usr/local/lib/python3.10/dist-packages/google/rpc/__init__.py:20: DeprecationWarning: Deprecated call to `pkg_resources.declare_namespace('google.rpc')`.\n",
            "\u001b[2m\u001b[36m(pid=17341)\u001b[0m Implementing implicit namespace packages (as specified in PEP 420) is preferred to `pkg_resources.declare_namespace`. See https://setuptools.pypa.io/en/latest/references/keywords.html#keyword-namespace-packages\n",
            "\u001b[2m\u001b[36m(pid=17341)\u001b[0m   pkg_resources.declare_namespace(__name__)\n",
            "\u001b[2m\u001b[36m(pid=17341)\u001b[0m /usr/local/lib/python3.10/dist-packages/pkg_resources/__init__.py:2349: DeprecationWarning: Deprecated call to `pkg_resources.declare_namespace('google')`.\n",
            "\u001b[2m\u001b[36m(pid=17341)\u001b[0m Implementing implicit namespace packages (as specified in PEP 420) is preferred to `pkg_resources.declare_namespace`. See https://setuptools.pypa.io/en/latest/references/keywords.html#keyword-namespace-packages\n",
            "\u001b[2m\u001b[36m(pid=17341)\u001b[0m   declare_namespace(parent)\n",
            "2023-05-11 09:53:32,421\tINFO trainable.py:172 -- Trainable.setup took 10.987 seconds. If your trainable is slow to initialize, consider setting reuse_actors=True to reduce actor creation overheads.\n",
            "2023-05-11 09:53:32,425\tWARNING util.py:67 -- Install gputil for GPU system monitoring.\n"
          ]
        },
        {
          "name": "stdout",
          "output_type": "stream",
          "text": [
            "Iteration: 1\n",
            "Iteration: 2\n",
            "Iteration: 3\n",
            "Iteration: 4\n",
            "Iteration: 5\n",
            "Iteration: 6\n",
            "Iteration: 7\n",
            "Iteration: 8\n",
            "Iteration: 9\n",
            "Iteration: 10\n",
            "Iteration: 11\n",
            "Iteration: 12\n",
            "Iteration: 13\n",
            "Iteration: 14\n",
            "Iteration: 15\n",
            "Iteration: 16\n",
            "Iteration: 17\n",
            "Iteration: 18\n",
            "Iteration: 19\n",
            "Iteration: 20\n",
            "Iteration: 21\n",
            "Iteration: 22\n",
            "Iteration: 23\n",
            "Iteration: 24\n",
            "Iteration: 25\n",
            "Iteration: 26\n",
            "Iteration: 27\n",
            "Iteration: 28\n",
            "Iteration: 29\n",
            "Iteration: 30\n",
            "Iteration: 31\n",
            "Iteration: 32\n",
            "Iteration: 33\n",
            "Iteration: 34\n",
            "Iteration: 35\n",
            "Iteration: 36\n",
            "Iteration: 37\n",
            "Iteration: 38\n",
            "Iteration: 39\n",
            "Iteration: 40\n",
            "Iteration: 41\n",
            "Iteration: 42\n",
            "Iteration: 43\n",
            "Iteration: 44\n",
            "Iteration: 45\n",
            "Iteration: 46\n",
            "Iteration: 47\n",
            "Iteration: 48\n",
            "Iteration: 49\n",
            "Iteration: 50\n"
          ]
        }
      ],
      "source": [
        "algo = (\n",
        "    PPOConfig()\n",
        "    .training(lr=3e-4, sgd_minibatch_size=64, num_sgd_iter=10, clip_param=0.2) #These are the hyperparameters given in the original PPO paper\n",
        "    .rollouts(num_rollout_workers=1, rollout_fragment_length=2048)\n",
        "    .resources(num_learner_workers=1, num_cpus_per_worker=2)\n",
        "    .environment(env = \"Walker2d-v4\")\n",
        "    .build()\n",
        ")\n",
        "\n",
        "rewards1_Walker2d_PPO = []\n",
        "\n",
        "for i in range(50):\n",
        "    result = algo.train()\n",
        "    rewards1_Walker2d_PPO.append(result['episode_reward_mean'])\n",
        "    print(\"Iteration: \" + str(i+1))\n",
        "\n",
        "ray.shutdown()"
      ]
    },
    {
      "cell_type": "code",
      "execution_count": null,
      "metadata": {
        "id": "tBJ-uoqeHzLX"
      },
      "outputs": [],
      "source": [
        "data = {'Average Reward Per Episode': rewards1_Walker2d_PPO}\n",
        "df = pd.DataFrame(data)\n",
        "df.to_csv('/content/drive/MyDrive/CS533/Lab_4/Walker2d_PPO_1.csv')"
      ]
    },
    {
      "cell_type": "code",
      "execution_count": null,
      "metadata": {
        "colab": {
          "base_uri": "https://localhost:8080/"
        },
        "id": "cmEQiiA_HzJF",
        "outputId": "331bf315-2bbe-4446-8062-e73fd09fff0f"
      },
      "outputs": [
        {
          "name": "stderr",
          "output_type": "stream",
          "text": [
            "2023-05-11 10:06:51,931\tINFO worker.py:1616 -- Started a local Ray instance. View the dashboard at \u001b[1m\u001b[32m127.0.0.1:8265 \u001b[39m\u001b[22m\n",
            "\u001b[2m\u001b[36m(pid=21182)\u001b[0m /usr/local/lib/python3.10/dist-packages/tensorflow_probability/python/__init__.py:57: DeprecationWarning: distutils Version classes are deprecated. Use packaging.version instead.\n",
            "\u001b[2m\u001b[36m(pid=21182)\u001b[0m   if (distutils.version.LooseVersion(tf.__version__) <\n",
            "\u001b[2m\u001b[36m(pid=21182)\u001b[0m /usr/local/lib/python3.10/dist-packages/google/rpc/__init__.py:20: DeprecationWarning: Deprecated call to `pkg_resources.declare_namespace('google.rpc')`.\n",
            "\u001b[2m\u001b[36m(pid=21182)\u001b[0m Implementing implicit namespace packages (as specified in PEP 420) is preferred to `pkg_resources.declare_namespace`. See https://setuptools.pypa.io/en/latest/references/keywords.html#keyword-namespace-packages\n",
            "\u001b[2m\u001b[36m(pid=21182)\u001b[0m   pkg_resources.declare_namespace(__name__)\n",
            "\u001b[2m\u001b[36m(pid=21182)\u001b[0m /usr/local/lib/python3.10/dist-packages/pkg_resources/__init__.py:2349: DeprecationWarning: Deprecated call to `pkg_resources.declare_namespace('google')`.\n",
            "\u001b[2m\u001b[36m(pid=21182)\u001b[0m Implementing implicit namespace packages (as specified in PEP 420) is preferred to `pkg_resources.declare_namespace`. See https://setuptools.pypa.io/en/latest/references/keywords.html#keyword-namespace-packages\n",
            "\u001b[2m\u001b[36m(pid=21182)\u001b[0m   declare_namespace(parent)\n",
            "2023-05-11 10:07:02,171\tINFO trainable.py:172 -- Trainable.setup took 12.597 seconds. If your trainable is slow to initialize, consider setting reuse_actors=True to reduce actor creation overheads.\n",
            "2023-05-11 10:07:02,174\tWARNING util.py:67 -- Install gputil for GPU system monitoring.\n"
          ]
        },
        {
          "name": "stdout",
          "output_type": "stream",
          "text": [
            "Iteration: 1\n",
            "Iteration: 2\n",
            "Iteration: 3\n",
            "Iteration: 4\n",
            "Iteration: 5\n",
            "Iteration: 6\n",
            "Iteration: 7\n",
            "Iteration: 8\n",
            "Iteration: 9\n",
            "Iteration: 10\n",
            "Iteration: 11\n",
            "Iteration: 12\n",
            "Iteration: 13\n",
            "Iteration: 14\n",
            "Iteration: 15\n",
            "Iteration: 16\n",
            "Iteration: 17\n",
            "Iteration: 18\n",
            "Iteration: 19\n",
            "Iteration: 20\n",
            "Iteration: 21\n",
            "Iteration: 22\n",
            "Iteration: 23\n",
            "Iteration: 24\n",
            "Iteration: 25\n",
            "Iteration: 26\n",
            "Iteration: 27\n",
            "Iteration: 28\n",
            "Iteration: 29\n",
            "Iteration: 30\n",
            "Iteration: 31\n",
            "Iteration: 32\n",
            "Iteration: 33\n",
            "Iteration: 34\n",
            "Iteration: 35\n",
            "Iteration: 36\n",
            "Iteration: 37\n",
            "Iteration: 38\n",
            "Iteration: 39\n",
            "Iteration: 40\n",
            "Iteration: 41\n",
            "Iteration: 42\n",
            "Iteration: 43\n",
            "Iteration: 44\n",
            "Iteration: 45\n",
            "Iteration: 46\n",
            "Iteration: 47\n",
            "Iteration: 48\n",
            "Iteration: 49\n",
            "Iteration: 50\n"
          ]
        }
      ],
      "source": [
        "algo = (\n",
        "    A2CConfig()\n",
        "    #.training(lr=3e-4, sgd_minibatch_size=64, num_sgd_iter=10, clip_param=0.2) #These are the hyperparameters given in the original PPO paper\n",
        "    .rollouts(num_rollout_workers=1)\n",
        "    .resources(num_learner_workers=1, num_cpus_per_worker=2)\n",
        "    .environment(env = \"Walker2d-v4\")\n",
        "    .build()\n",
        ")\n",
        "\n",
        "rewards1_Walker2d_A2C = []\n",
        "\n",
        "for i in range(50):\n",
        "    result = algo.train()\n",
        "    rewards1_Walker2d_A2C.append(result['episode_reward_mean'])\n",
        "    print(\"Iteration: \" + str(i+1))\n",
        "\n",
        "ray.shutdown()"
      ]
    },
    {
      "cell_type": "code",
      "execution_count": null,
      "metadata": {
        "id": "MHswsBY1KQCl"
      },
      "outputs": [],
      "source": [
        "data = {'Average Reward Per Episode': rewards1_Walker2d_A2C}\n",
        "df = pd.DataFrame(data)\n",
        "df.to_csv('/content/drive/MyDrive/CS533/Lab_4/Walker2d_A2C_1.csv')"
      ]
    },
    {
      "cell_type": "code",
      "execution_count": null,
      "metadata": {
        "colab": {
          "base_uri": "https://localhost:8080/",
          "height": 472
        },
        "id": "BsY8WkZ0KP8f",
        "outputId": "0e7a0872-3414-4daa-b94a-dcc94cbdd42d"
      },
      "outputs": [
        {
          "data": {
            "image/png": "[encoded data removed]",
            "text/plain": [
              "<Figure size 640x480 with 1 Axes>"
            ]
          },
          "metadata": {},
          "output_type": "display_data"
        }
      ],
      "source": [
        "#PPO - 13 min, A2C - 8 min\n",
        "#PLOT\n",
        "\n",
        "data1 = pd.read_csv('/content/drive/MyDrive/CS533/Lab_4/Walker2d_PPO_1.csv')[\"Average Reward Per Episode\"]\n",
        "data2 = pd.read_csv('/content/drive/MyDrive/CS533/Lab_4/Walker2d_A2C_1.csv')[\"Average Reward Per Episode\"]\n",
        "\n",
        "data1 = np.array(data1)\n",
        "data2 = np.array(data2)\n",
        "\n",
        "plt.plot(4000*np.arange(1,len(data1)+1), np.cumsum(data1)/np.cumsum(np.ones(len(data1))),label='PPO')\n",
        "plt.plot(4000*np.arange(1,len(data2)+1), np.cumsum(data2)/np.cumsum(np.ones(len(data2))),label='A2C')\n",
        "plt.title(\"Walker2d\")\n",
        "plt.xlabel(\"Timesteps\")\n",
        "plt.ylabel(\"Average Episode Reward\")\n",
        "plt.legend()\n",
        "plt.show()"
      ]
    },
    {
      "cell_type": "markdown",
      "metadata": {
        "id": "68Q4PsN1vgAk"
      },
      "source": [
        "###Observations:\n",
        "\n",
        "1. For Walker2d Environment A2C outperforms PPO. Since it is relatively less complex environment\n",
        "2. Again A2C is bit unstable compared to PPO in terms of learning\n",
        "3. Again PPO is stable relatively. In the long run PPO will dominate.\n",
        "\n",
        "\n",
        "###Challanges faced:\n",
        "\n",
        "First of all there was installion issues all over. ray.shutdown() caused lot of trouble. Intilially I was using rllab instead of rllib hence lot of installing issues were there also. Thanks to this tutorial where I have learnt the usage of this framework better: https://colab.research.google.com/github/ray-project/tutorial/blob/master/rllib_exercises/rllib_colab.ipynb"
      ]
    },
    {
      "cell_type": "markdown",
      "metadata": {
        "id": "_2Tb7YtcKlSz"
      },
      "source": [
        "#Question-2:\n",
        "\n",
        "Let’s consider transferring a policy learned in one environment to another environment with a\n",
        "different MDP. Can we have a single backbone to learn the representations of any policy? Such\n",
        "that a model trained in one environment (say Ant) should train in the other environment (half\n",
        "cheetah) with less number of samples? You need to think in this direction and show if the\n",
        "concepts of MB-MPO can be used to also show policy transfer in RL.\n",
        "One possible way could be to use the same model parameters/network weights learnt in the Ant\n",
        "environment and run the trained model in the HalfCheetah environment. Which algorithm\n",
        "performs the best, analyze the results using plots and share your insights?"
      ]
    },
    {
      "cell_type": "markdown",
      "metadata": {
        "id": "0sX96QIJVs-W"
      },
      "source": [
        "##PPO"
      ]
    },
    {
      "cell_type": "code",
      "execution_count": null,
      "metadata": {
        "colab": {
          "base_uri": "https://localhost:8080/"
        },
        "id": "5fBvBI1SKP34",
        "outputId": "33e538e4-6dcf-4250-fc3c-4812d536e263"
      },
      "outputs": [
        {
          "name": "stderr",
          "output_type": "stream",
          "text": [
            "2023-05-11 10:15:58,081\tINFO worker.py:1616 -- Started a local Ray instance. View the dashboard at \u001b[1m\u001b[32m127.0.0.1:8265 \u001b[39m\u001b[22m\n",
            "\u001b[2m\u001b[36m(pid=23892)\u001b[0m /usr/local/lib/python3.10/dist-packages/tensorflow_probability/python/__init__.py:57: DeprecationWarning: distutils Version classes are deprecated. Use packaging.version instead.\n",
            "\u001b[2m\u001b[36m(pid=23892)\u001b[0m   if (distutils.version.LooseVersion(tf.__version__) <\n",
            "\u001b[2m\u001b[36m(pid=23892)\u001b[0m /usr/local/lib/python3.10/dist-packages/google/rpc/__init__.py:20: DeprecationWarning: Deprecated call to `pkg_resources.declare_namespace('google.rpc')`.\n",
            "\u001b[2m\u001b[36m(pid=23892)\u001b[0m Implementing implicit namespace packages (as specified in PEP 420) is preferred to `pkg_resources.declare_namespace`. See https://setuptools.pypa.io/en/latest/references/keywords.html#keyword-namespace-packages\n",
            "\u001b[2m\u001b[36m(pid=23892)\u001b[0m   pkg_resources.declare_namespace(__name__)\n",
            "\u001b[2m\u001b[36m(pid=23892)\u001b[0m /usr/local/lib/python3.10/dist-packages/pkg_resources/__init__.py:2349: DeprecationWarning: Deprecated call to `pkg_resources.declare_namespace('google')`.\n",
            "\u001b[2m\u001b[36m(pid=23892)\u001b[0m Implementing implicit namespace packages (as specified in PEP 420) is preferred to `pkg_resources.declare_namespace`. See https://setuptools.pypa.io/en/latest/references/keywords.html#keyword-namespace-packages\n",
            "\u001b[2m\u001b[36m(pid=23892)\u001b[0m   declare_namespace(parent)\n",
            "2023-05-11 10:16:06,203\tINFO trainable.py:172 -- Trainable.setup took 11.053 seconds. If your trainable is slow to initialize, consider setting reuse_actors=True to reduce actor creation overheads.\n",
            "2023-05-11 10:16:06,208\tWARNING util.py:67 -- Install gputil for GPU system monitoring.\n",
            "2023-05-11 10:41:27,452\tINFO worker.py:1616 -- Started a local Ray instance. View the dashboard at \u001b[1m\u001b[32m127.0.0.1:8265 \u001b[39m\u001b[22m\n",
            "\u001b[2m\u001b[36m(pid=30960)\u001b[0m /usr/local/lib/python3.10/dist-packages/tensorflow_probability/python/__init__.py:57: DeprecationWarning: distutils Version classes are deprecated. Use packaging.version instead.\n",
            "\u001b[2m\u001b[36m(pid=30960)\u001b[0m   if (distutils.version.LooseVersion(tf.__version__) <\n",
            "\u001b[2m\u001b[36m(pid=30960)\u001b[0m /usr/local/lib/python3.10/dist-packages/google/rpc/__init__.py:20: DeprecationWarning: Deprecated call to `pkg_resources.declare_namespace('google.rpc')`.\n",
            "\u001b[2m\u001b[36m(pid=30960)\u001b[0m Implementing implicit namespace packages (as specified in PEP 420) is preferred to `pkg_resources.declare_namespace`. See https://setuptools.pypa.io/en/latest/references/keywords.html#keyword-namespace-packages\n",
            "\u001b[2m\u001b[36m(pid=30960)\u001b[0m   pkg_resources.declare_namespace(__name__)\n",
            "\u001b[2m\u001b[36m(pid=30960)\u001b[0m /usr/local/lib/python3.10/dist-packages/pkg_resources/__init__.py:2349: DeprecationWarning: Deprecated call to `pkg_resources.declare_namespace('google')`.\n",
            "\u001b[2m\u001b[36m(pid=30960)\u001b[0m Implementing implicit namespace packages (as specified in PEP 420) is preferred to `pkg_resources.declare_namespace`. See https://setuptools.pypa.io/en/latest/references/keywords.html#keyword-namespace-packages\n",
            "\u001b[2m\u001b[36m(pid=30960)\u001b[0m   declare_namespace(parent)\n",
            "2023-05-11 10:41:38,443\tINFO trainable.py:172 -- Trainable.setup took 13.343 seconds. If your trainable is slow to initialize, consider setting reuse_actors=True to reduce actor creation overheads.\n",
            "2023-05-11 10:41:38,445\tWARNING util.py:67 -- Install gputil for GPU system monitoring.\n"
          ]
        },
        {
          "name": "stdout",
          "output_type": "stream",
          "text": [
            "Iteration: 1\n",
            "Iteration: 2\n",
            "Iteration: 3\n",
            "Iteration: 4\n",
            "Iteration: 5\n",
            "Iteration: 6\n",
            "Iteration: 7\n",
            "Iteration: 8\n",
            "Iteration: 9\n",
            "Iteration: 10\n"
          ]
        }
      ],
      "source": [
        "algo1 = (\n",
        "    PPOConfig()\n",
        "    #.training(lr=3e-4, sgd_minibatch_size=64, num_sgd_iter=10, clip_param=0.2) #These are the hyperparameters given in the original PPO paper\n",
        "    .rollouts(num_rollout_workers=1, rollout_fragment_length='auto')\n",
        "    .resources(num_learner_workers=1, num_cpus_per_worker=2)\n",
        "    .environment(env = \"Ant-v4\")\n",
        "    .build()\n",
        ")\n",
        "\n",
        "# rewards1_Walker2d_PPO = []\n",
        "\n",
        "for i in range(75):\n",
        "    algo1.train()\n",
        "    # rewards1_Walker2d_PPO.append(result['episode_reward_mean'])\n",
        "    # print(\"Iteration: \" + str(i+1))\n",
        "\n",
        "ant = algo1.get_policy().get_weights()\n",
        "\n",
        "ray.shutdown()\n",
        "\n",
        "\n",
        "algo2 = (\n",
        "    PPOConfig()\n",
        "    #.training(lr=3e-4, sgd_minibatch_size=64, num_sgd_iter=10, clip_param=0.2) #These are the hyperparameters given in the original PPO paper\n",
        "    .rollouts(num_rollout_workers=1, rollout_fragment_length='auto')\n",
        "    .resources(num_learner_workers=1, num_cpus_per_worker=2)\n",
        "    .environment(env = \"HalfCheetah-v4\")\n",
        "    .build()\n",
        ")\n",
        "\n",
        "cheetah = algo2.get_policy().get_weights()\n",
        "\n",
        "new_cheetah = {}\n",
        "for key in ant.keys():\n",
        "    shape = cheetah[key].shape\n",
        "    if len(shape) == 1:\n",
        "      new_cheetah[key] = ant[key][ :shape[0]]\n",
        "    else:\n",
        "      new_cheetah[key] = ant[key][ :shape[0], :shape[1]]\n",
        "\n",
        "\n",
        "algo2.get_policy().set_weights(new_cheetah)\n",
        "\n",
        "rewards2_trasfer_PPO = []\n",
        "\n",
        "for i in range(10):\n",
        "    result = algo2.train()\n",
        "    rewards2_trasfer_PPO.append(result['episode_reward_mean'])\n",
        "    print(\"Iteration: \" + str(i+1))"
      ]
    },
    {
      "cell_type": "code",
      "execution_count": null,
      "metadata": {
        "id": "jdtCtoHOSU2V"
      },
      "outputs": [],
      "source": [
        "data = {'Average Reward Per Episode': rewards2_trasfer_PPO}\n",
        "df = pd.DataFrame(data)\n",
        "df.to_csv('/content/drive/MyDrive/CS533/Lab_4/rewards2_trasfer_PPO.csv')"
      ]
    },
    {
      "cell_type": "code",
      "execution_count": null,
      "metadata": {
        "colab": {
          "base_uri": "https://localhost:8080/"
        },
        "id": "bJoXKAi9RPho",
        "outputId": "d447558d-74a0-416b-e71b-713c4c587685"
      },
      "outputs": [
        {
          "name": "stderr",
          "output_type": "stream",
          "text": [
            "2023-05-11 10:45:59,782\tINFO worker.py:1616 -- Started a local Ray instance. View the dashboard at \u001b[1m\u001b[32m127.0.0.1:8265 \u001b[39m\u001b[22m\n",
            "\u001b[2m\u001b[36m(pid=32457)\u001b[0m /usr/local/lib/python3.10/dist-packages/tensorflow_probability/python/__init__.py:57: DeprecationWarning: distutils Version classes are deprecated. Use packaging.version instead.\n",
            "\u001b[2m\u001b[36m(pid=32457)\u001b[0m   if (distutils.version.LooseVersion(tf.__version__) <\n",
            "\u001b[2m\u001b[36m(pid=32457)\u001b[0m /usr/local/lib/python3.10/dist-packages/google/rpc/__init__.py:20: DeprecationWarning: Deprecated call to `pkg_resources.declare_namespace('google.rpc')`.\n",
            "\u001b[2m\u001b[36m(pid=32457)\u001b[0m Implementing implicit namespace packages (as specified in PEP 420) is preferred to `pkg_resources.declare_namespace`. See https://setuptools.pypa.io/en/latest/references/keywords.html#keyword-namespace-packages\n",
            "\u001b[2m\u001b[36m(pid=32457)\u001b[0m   pkg_resources.declare_namespace(__name__)\n",
            "\u001b[2m\u001b[36m(pid=32457)\u001b[0m /usr/local/lib/python3.10/dist-packages/pkg_resources/__init__.py:2349: DeprecationWarning: Deprecated call to `pkg_resources.declare_namespace('google')`.\n",
            "\u001b[2m\u001b[36m(pid=32457)\u001b[0m Implementing implicit namespace packages (as specified in PEP 420) is preferred to `pkg_resources.declare_namespace`. See https://setuptools.pypa.io/en/latest/references/keywords.html#keyword-namespace-packages\n",
            "\u001b[2m\u001b[36m(pid=32457)\u001b[0m   declare_namespace(parent)\n",
            "2023-05-11 10:46:08,697\tINFO trainable.py:172 -- Trainable.setup took 13.105 seconds. If your trainable is slow to initialize, consider setting reuse_actors=True to reduce actor creation overheads.\n",
            "2023-05-11 10:46:08,700\tWARNING util.py:67 -- Install gputil for GPU system monitoring.\n"
          ]
        },
        {
          "name": "stdout",
          "output_type": "stream",
          "text": [
            "Iteration: 1\n",
            "Iteration: 2\n",
            "Iteration: 3\n",
            "Iteration: 4\n",
            "Iteration: 5\n",
            "Iteration: 6\n",
            "Iteration: 7\n",
            "Iteration: 8\n",
            "Iteration: 9\n",
            "Iteration: 10\n"
          ]
        }
      ],
      "source": [
        "ray.shutdown()\n",
        "algo3 = (\n",
        "    PPOConfig()\n",
        "    #.training(lr=3e-4, sgd_minibatch_size=64, num_sgd_iter=10, clip_param=0.2) #These are the hyperparameters given in the original PPO paper\n",
        "    .rollouts(num_rollout_workers=1, rollout_fragment_length='auto')\n",
        "    .resources(num_learner_workers=1, num_cpus_per_worker=2)\n",
        "    .environment(env = \"HalfCheetah-v4\")\n",
        "    .build()\n",
        ")\n",
        "\n",
        "rewards2_PPO = []\n",
        "for i in range(10):\n",
        "    result = algo3.train()\n",
        "    rewards2_PPO.append(result['episode_reward_mean'])\n",
        "    print(\"Iteration: \" + str(i+1))"
      ]
    },
    {
      "cell_type": "code",
      "execution_count": null,
      "metadata": {
        "id": "Jdkpi22xTg6I"
      },
      "outputs": [],
      "source": [
        "data = {'Average Reward Per Episode': rewards2_PPO}\n",
        "df = pd.DataFrame(data)\n",
        "df.to_csv('/content/drive/MyDrive/CS533/Lab_4/rewards2_PPO.csv')"
      ]
    },
    {
      "cell_type": "code",
      "execution_count": null,
      "metadata": {
        "colab": {
          "base_uri": "https://localhost:8080/",
          "height": 472
        },
        "id": "SpdcK7AXa3jp",
        "outputId": "e1ed3b96-db08-4225-bf88-5da28fd8769d"
      },
      "outputs": [
        {
          "data": {
            "image/png": "[encoded data removed]",
            "text/plain": [
              "<Figure size 640x480 with 1 Axes>"
            ]
          },
          "metadata": {},
          "output_type": "display_data"
        }
      ],
      "source": [
        "#PLOT\n",
        "\n",
        "data1 = pd.read_csv('/content/drive/MyDrive/CS533/Lab_4/rewards2_trasfer_PPO.csv')[\"Average Reward Per Episode\"]\n",
        "data2 = pd.read_csv('/content/drive/MyDrive/CS533/Lab_4/rewards2_PPO.csv')[\"Average Reward Per Episode\"]\n",
        "\n",
        "data1 = np.array(data1)\n",
        "data2 = np.array(data2)\n",
        "\n",
        "plt.plot(4000*np.arange(1,len(data1)+1), np.cumsum(data1)/np.cumsum(np.ones(len(data1))),label='Transfer')\n",
        "plt.plot(4000*np.arange(1,len(data2)+1), np.cumsum(data2)/np.cumsum(np.ones(len(data2))),label='Without Transfer')\n",
        "plt.title(\"PPO Transfer Learning\")\n",
        "plt.ylabel(\"Mean Episode Reward\")\n",
        "plt.xlabel(\"Timesteps\")\n",
        "plt.legend()\n",
        "plt.show()\n"
      ]
    },
    {
      "cell_type": "markdown",
      "metadata": {
        "id": "lAbIwtfZx7_j"
      },
      "source": [
        "###Observations:\n",
        "\n",
        "We can see that performance of PPO improved with Transfer Learning"
      ]
    },
    {
      "cell_type": "markdown",
      "metadata": {
        "id": "ZcsinldoVwiL"
      },
      "source": [
        "##A2C"
      ]
    },
    {
      "cell_type": "code",
      "execution_count": null,
      "metadata": {
        "colab": {
          "base_uri": "https://localhost:8080/"
        },
        "id": "rw6gUneEUvOk",
        "outputId": "c7ffac3d-0097-4182-e4bd-e7a26167d096"
      },
      "outputs": [
        {
          "name": "stderr",
          "output_type": "stream",
          "text": [
            "2023-05-11 10:50:20,884\tINFO worker.py:1616 -- Started a local Ray instance. View the dashboard at \u001b[1m\u001b[32m127.0.0.1:8265 \u001b[39m\u001b[22m\n",
            "\u001b[2m\u001b[36m(pid=33913)\u001b[0m /usr/local/lib/python3.10/dist-packages/tensorflow_probability/python/__init__.py:57: DeprecationWarning: distutils Version classes are deprecated. Use packaging.version instead.\n",
            "\u001b[2m\u001b[36m(pid=33913)\u001b[0m   if (distutils.version.LooseVersion(tf.__version__) <\n",
            "\u001b[2m\u001b[36m(pid=33913)\u001b[0m /usr/local/lib/python3.10/dist-packages/google/rpc/__init__.py:20: DeprecationWarning: Deprecated call to `pkg_resources.declare_namespace('google.rpc')`.\n",
            "\u001b[2m\u001b[36m(pid=33913)\u001b[0m Implementing implicit namespace packages (as specified in PEP 420) is preferred to `pkg_resources.declare_namespace`. See https://setuptools.pypa.io/en/latest/references/keywords.html#keyword-namespace-packages\n",
            "\u001b[2m\u001b[36m(pid=33913)\u001b[0m   pkg_resources.declare_namespace(__name__)\n",
            "\u001b[2m\u001b[36m(pid=33913)\u001b[0m /usr/local/lib/python3.10/dist-packages/pkg_resources/__init__.py:2349: DeprecationWarning: Deprecated call to `pkg_resources.declare_namespace('google')`.\n",
            "\u001b[2m\u001b[36m(pid=33913)\u001b[0m Implementing implicit namespace packages (as specified in PEP 420) is preferred to `pkg_resources.declare_namespace`. See https://setuptools.pypa.io/en/latest/references/keywords.html#keyword-namespace-packages\n",
            "\u001b[2m\u001b[36m(pid=33913)\u001b[0m   declare_namespace(parent)\n",
            "2023-05-11 10:50:31,878\tINFO trainable.py:172 -- Trainable.setup took 13.354 seconds. If your trainable is slow to initialize, consider setting reuse_actors=True to reduce actor creation overheads.\n",
            "2023-05-11 10:50:31,884\tWARNING util.py:67 -- Install gputil for GPU system monitoring.\n",
            "2023-05-11 11:03:16,143\tINFO worker.py:1616 -- Started a local Ray instance. View the dashboard at \u001b[1m\u001b[32m127.0.0.1:8265 \u001b[39m\u001b[22m\n",
            "\u001b[2m\u001b[36m(pid=37643)\u001b[0m /usr/local/lib/python3.10/dist-packages/tensorflow_probability/python/__init__.py:57: DeprecationWarning: distutils Version classes are deprecated. Use packaging.version instead.\n",
            "\u001b[2m\u001b[36m(pid=37643)\u001b[0m   if (distutils.version.LooseVersion(tf.__version__) <\n",
            "\u001b[2m\u001b[36m(pid=37643)\u001b[0m /usr/local/lib/python3.10/dist-packages/google/rpc/__init__.py:20: DeprecationWarning: Deprecated call to `pkg_resources.declare_namespace('google.rpc')`.\n",
            "\u001b[2m\u001b[36m(pid=37643)\u001b[0m Implementing implicit namespace packages (as specified in PEP 420) is preferred to `pkg_resources.declare_namespace`. See https://setuptools.pypa.io/en/latest/references/keywords.html#keyword-namespace-packages\n",
            "\u001b[2m\u001b[36m(pid=37643)\u001b[0m   pkg_resources.declare_namespace(__name__)\n",
            "\u001b[2m\u001b[36m(pid=37643)\u001b[0m /usr/local/lib/python3.10/dist-packages/pkg_resources/__init__.py:2349: DeprecationWarning: Deprecated call to `pkg_resources.declare_namespace('google')`.\n",
            "\u001b[2m\u001b[36m(pid=37643)\u001b[0m Implementing implicit namespace packages (as specified in PEP 420) is preferred to `pkg_resources.declare_namespace`. See https://setuptools.pypa.io/en/latest/references/keywords.html#keyword-namespace-packages\n",
            "\u001b[2m\u001b[36m(pid=37643)\u001b[0m   declare_namespace(parent)\n",
            "2023-05-11 11:03:28,653\tINFO trainable.py:172 -- Trainable.setup took 16.968 seconds. If your trainable is slow to initialize, consider setting reuse_actors=True to reduce actor creation overheads.\n",
            "2023-05-11 11:03:28,660\tWARNING util.py:67 -- Install gputil for GPU system monitoring.\n"
          ]
        },
        {
          "name": "stdout",
          "output_type": "stream",
          "text": [
            "Iteration: 1\n",
            "Iteration: 2\n",
            "Iteration: 3\n",
            "Iteration: 4\n",
            "Iteration: 5\n",
            "Iteration: 6\n",
            "Iteration: 7\n",
            "Iteration: 8\n",
            "Iteration: 9\n",
            "Iteration: 10\n"
          ]
        }
      ],
      "source": [
        "ray.shutdown()\n",
        "algo1 = (\n",
        "    A2CConfig()\n",
        "    #.training(lr=3e-4, sgd_minibatch_size=64, num_sgd_iter=10, clip_param=0.2) #These are the hyperparameters given in the original PPO paper\n",
        "    .rollouts(num_rollout_workers=1, rollout_fragment_length='auto')\n",
        "    .resources(num_learner_workers=1, num_cpus_per_worker=2)\n",
        "    .environment(env = \"Ant-v4\")\n",
        "    .build()\n",
        ")\n",
        "\n",
        "# rewards1_Walker2d_PPO = []\n",
        "\n",
        "for i in range(75):\n",
        "    algo1.train()\n",
        "    # rewards1_Walker2d_PPO.append(result['episode_reward_mean'])\n",
        "    # print(\"Iteration: \" + str(i+1))\n",
        "\n",
        "ant = algo1.get_policy().get_weights()\n",
        "\n",
        "ray.shutdown()\n",
        "\n",
        "\n",
        "algo2 = (\n",
        "    A2CConfig()\n",
        "    #.training(lr=3e-4, sgd_minibatch_size=64, num_sgd_iter=10, clip_param=0.2) #These are the hyperparameters given in the original PPO paper\n",
        "    .rollouts(num_rollout_workers=1, rollout_fragment_length='auto')\n",
        "    .resources(num_learner_workers=1, num_cpus_per_worker=2)\n",
        "    .environment(env = \"HalfCheetah-v4\")\n",
        "    .build()\n",
        ")\n",
        "\n",
        "cheetah = algo2.get_policy().get_weights()\n",
        "\n",
        "new_cheetah = {}\n",
        "for key in ant.keys():\n",
        "    shape = cheetah[key].shape\n",
        "    if len(shape) == 1:\n",
        "      new_cheetah[key] = ant[key][ :shape[0]]\n",
        "    else:\n",
        "      new_cheetah[key] = ant[key][ :shape[0], :shape[1]]\n",
        "\n",
        "\n",
        "algo2.get_policy().set_weights(new_cheetah)\n",
        "\n",
        "rewards2_trasfer_A2C = []\n",
        "\n",
        "for i in range(10):\n",
        "    result = algo2.train()\n",
        "    rewards2_trasfer_A2C.append(result['episode_reward_mean'])\n",
        "    print(\"Iteration: \" + str(i+1))"
      ]
    },
    {
      "cell_type": "code",
      "execution_count": null,
      "metadata": {
        "id": "fLqz7pDcUvIZ"
      },
      "outputs": [],
      "source": [
        "data = {'Average Reward Per Episode': rewards2_trasfer_A2C}\n",
        "df = pd.DataFrame(data)\n",
        "df.to_csv('/content/drive/MyDrive/CS533/Lab_4/rewards2_trasfer_A2C.csv')"
      ]
    },
    {
      "cell_type": "code",
      "execution_count": null,
      "metadata": {
        "colab": {
          "base_uri": "https://localhost:8080/"
        },
        "id": "KTidkOPJUvCL",
        "outputId": "8336ddc9-4587-4a8e-c0cb-53078d519d8e"
      },
      "outputs": [
        {
          "name": "stderr",
          "output_type": "stream",
          "text": [
            "2023-05-11 11:05:48,702\tINFO worker.py:1616 -- Started a local Ray instance. View the dashboard at \u001b[1m\u001b[32m127.0.0.1:8265 \u001b[39m\u001b[22m\n",
            "\u001b[2m\u001b[36m(pid=38606)\u001b[0m /usr/local/lib/python3.10/dist-packages/tensorflow_probability/python/__init__.py:57: DeprecationWarning: distutils Version classes are deprecated. Use packaging.version instead.\n",
            "\u001b[2m\u001b[36m(pid=38606)\u001b[0m   if (distutils.version.LooseVersion(tf.__version__) <\n",
            "\u001b[2m\u001b[36m(pid=38606)\u001b[0m /usr/local/lib/python3.10/dist-packages/google/rpc/__init__.py:20: DeprecationWarning: Deprecated call to `pkg_resources.declare_namespace('google.rpc')`.\n",
            "\u001b[2m\u001b[36m(pid=38606)\u001b[0m Implementing implicit namespace packages (as specified in PEP 420) is preferred to `pkg_resources.declare_namespace`. See https://setuptools.pypa.io/en/latest/references/keywords.html#keyword-namespace-packages\n",
            "\u001b[2m\u001b[36m(pid=38606)\u001b[0m   pkg_resources.declare_namespace(__name__)\n",
            "\u001b[2m\u001b[36m(pid=38606)\u001b[0m /usr/local/lib/python3.10/dist-packages/pkg_resources/__init__.py:2349: DeprecationWarning: Deprecated call to `pkg_resources.declare_namespace('google')`.\n",
            "\u001b[2m\u001b[36m(pid=38606)\u001b[0m Implementing implicit namespace packages (as specified in PEP 420) is preferred to `pkg_resources.declare_namespace`. See https://setuptools.pypa.io/en/latest/references/keywords.html#keyword-namespace-packages\n",
            "\u001b[2m\u001b[36m(pid=38606)\u001b[0m   declare_namespace(parent)\n",
            "2023-05-11 11:05:57,780\tINFO trainable.py:172 -- Trainable.setup took 12.440 seconds. If your trainable is slow to initialize, consider setting reuse_actors=True to reduce actor creation overheads.\n",
            "2023-05-11 11:05:57,786\tWARNING util.py:67 -- Install gputil for GPU system monitoring.\n"
          ]
        },
        {
          "name": "stdout",
          "output_type": "stream",
          "text": [
            "Iteration: 1\n",
            "Iteration: 2\n",
            "Iteration: 3\n",
            "Iteration: 4\n",
            "Iteration: 5\n",
            "Iteration: 6\n",
            "Iteration: 7\n",
            "Iteration: 8\n",
            "Iteration: 9\n",
            "Iteration: 10\n"
          ]
        }
      ],
      "source": [
        "ray.shutdown()\n",
        "algo3 = (\n",
        "    A2CConfig()\n",
        "    #.training(lr=3e-4, sgd_minibatch_size=64, num_sgd_iter=10, clip_param=0.2) #These are the hyperparameters given in the original PPO paper\n",
        "    .rollouts(num_rollout_workers=1, rollout_fragment_length='auto')\n",
        "    #.resources(num_learner_workers=1, num_cpus_per_worker=2)\n",
        "    .environment(env = \"HalfCheetah-v4\")\n",
        "    .build()\n",
        ")\n",
        "\n",
        "rewards2_A2C = []\n",
        "for i in range(10):\n",
        "    result = algo3.train()\n",
        "    rewards2_A2C.append(result['episode_reward_mean'])\n",
        "    print(\"Iteration: \" + str(i+1))"
      ]
    },
    {
      "cell_type": "code",
      "execution_count": null,
      "metadata": {
        "id": "8_p6bgpMWe3e"
      },
      "outputs": [],
      "source": [
        "data = {'Average Reward Per Episode': rewards2_A2C}\n",
        "df = pd.DataFrame(data)\n",
        "df.to_csv('/content/drive/MyDrive/CS533/Lab_4/rewards2_A2C.csv')"
      ]
    },
    {
      "cell_type": "code",
      "execution_count": null,
      "metadata": {
        "colab": {
          "base_uri": "https://localhost:8080/",
          "height": 472
        },
        "id": "UlFzxKb0yONI",
        "outputId": "5ec2aba5-f4e6-4bb7-e45f-b7ec79c52af8"
      },
      "outputs": [
        {
          "data": {
            "image/png": "[encoded data removed]",
            "text/plain": [
              "<Figure size 640x480 with 1 Axes>"
            ]
          },
          "metadata": {},
          "output_type": "display_data"
        }
      ],
      "source": [
        "data1 = pd.read_csv('/content/drive/MyDrive/CS533/Lab_4/rewards2_trasfer_A2C.csv')[\"Average Reward Per Episode\"]\n",
        "data2 = pd.read_csv('/content/drive/MyDrive/CS533/Lab_4/rewards2_A2C.csv')[\"Average Reward Per Episode\"]\n",
        "\n",
        "data1 = np.array(data1)\n",
        "data2 = np.array(data2)\n",
        "\n",
        "plt.plot(4000*np.arange(1,len(data1)+1), np.cumsum(data1)/np.cumsum(np.ones(len(data1))),label='Transfer')\n",
        "plt.plot(4000*np.arange(1,len(data2)+1), np.cumsum(data2)/np.cumsum(np.ones(len(data2))),label='Without Transfer')\n",
        "plt.title(\"A2C Transfer Learning\")\n",
        "plt.ylabel(\"Mean Episode Reward\")\n",
        "plt.xlabel(\"Timesteps\")\n",
        "plt.legend()\n",
        "plt.show()"
      ]
    },
    {
      "cell_type": "markdown",
      "metadata": {
        "id": "_HBkuugPyNT4"
      },
      "source": [
        "###Observations:\n",
        "\n",
        "We can see that intially A2C performs well with Transfer but in the long run it does perform well with Transfer"
      ]
    },
    {
      "cell_type": "markdown",
      "metadata": {
        "id": "KewhCeZ3YUHc"
      },
      "source": [
        "##TD3"
      ]
    },
    {
      "cell_type": "code",
      "execution_count": null,
      "metadata": {
        "colab": {
          "base_uri": "https://localhost:8080/"
        },
        "id": "HYiarqV8XgTT",
        "outputId": "948c4084-0c2a-4e0a-9fbe-ca186f49f96c"
      },
      "outputs": [
        {
          "name": "stderr",
          "output_type": "stream",
          "text": [
            "2023-05-11 11:08:22,388\tINFO worker.py:1616 -- Started a local Ray instance. View the dashboard at \u001b[1m\u001b[32m127.0.0.1:8265 \u001b[39m\u001b[22m\n",
            "\u001b[2m\u001b[36m(pid=39571)\u001b[0m /usr/local/lib/python3.10/dist-packages/tensorflow_probability/python/__init__.py:57: DeprecationWarning: distutils Version classes are deprecated. Use packaging.version instead.\n",
            "\u001b[2m\u001b[36m(pid=39571)\u001b[0m   if (distutils.version.LooseVersion(tf.__version__) <\n",
            "\u001b[2m\u001b[36m(pid=39571)\u001b[0m /usr/local/lib/python3.10/dist-packages/google/rpc/__init__.py:20: DeprecationWarning: Deprecated call to `pkg_resources.declare_namespace('google.rpc')`.\n",
            "\u001b[2m\u001b[36m(pid=39571)\u001b[0m Implementing implicit namespace packages (as specified in PEP 420) is preferred to `pkg_resources.declare_namespace`. See https://setuptools.pypa.io/en/latest/references/keywords.html#keyword-namespace-packages\n",
            "\u001b[2m\u001b[36m(pid=39571)\u001b[0m   pkg_resources.declare_namespace(__name__)\n",
            "\u001b[2m\u001b[36m(pid=39571)\u001b[0m /usr/local/lib/python3.10/dist-packages/pkg_resources/__init__.py:2349: DeprecationWarning: Deprecated call to `pkg_resources.declare_namespace('google')`.\n",
            "\u001b[2m\u001b[36m(pid=39571)\u001b[0m Implementing implicit namespace packages (as specified in PEP 420) is preferred to `pkg_resources.declare_namespace`. See https://setuptools.pypa.io/en/latest/references/keywords.html#keyword-namespace-packages\n",
            "\u001b[2m\u001b[36m(pid=39571)\u001b[0m   declare_namespace(parent)\n",
            "2023-05-11 11:08:31,588\tINFO trainable.py:172 -- Trainable.setup took 11.637 seconds. If your trainable is slow to initialize, consider setting reuse_actors=True to reduce actor creation overheads.\n",
            "2023-05-11 11:08:31,595\tWARNING util.py:67 -- Install gputil for GPU system monitoring.\n"
          ]
        }
      ],
      "source": [
        "ray.shutdown()\n",
        "algo1 = (\n",
        "    TD3Config()\n",
        "    #.training(lr=3e-4, sgd_minibatch_size=64, num_sgd_iter=10, clip_param=0.2) #These are the hyperparameters given in the original PPO paper\n",
        "    .rollouts(num_rollout_workers=1, rollout_fragment_length='auto')\n",
        "    .resources(num_learner_workers=1, num_cpus_per_worker=2)\n",
        "    .environment(env = \"Ant-v4\")\n",
        "    .build()\n",
        ")\n",
        "\n",
        "# rewards1_Walker2d_PPO = []\n",
        "\n",
        "for i in range(75):\n",
        "    algo1.train()\n",
        "    # rewards1_Walker2d_PPO.append(result['episode_reward_mean'])\n",
        "    # print(\"Iteration: \" + str(i+1))\n",
        "\n",
        "ant = algo1.get_policy().get_weights()\n",
        "\n",
        "ray.shutdown()\n",
        "\n",
        "\n",
        "algo2 = (\n",
        "    TD3Config()\n",
        "    #.training(lr=3e-4, sgd_minibatch_size=64, num_sgd_iter=10, clip_param=0.2) #These are the hyperparameters given in the original PPO paper\n",
        "    .rollouts(num_rollout_workers=1, rollout_fragment_length='auto')\n",
        "    .resources(num_learner_workers=1, num_cpus_per_worker=2)\n",
        "    .environment(env = \"HalfCheetah-v4\")\n",
        "    .build()\n",
        ")\n",
        "\n",
        "cheetah = algo2.get_policy().get_weights()\n",
        "\n",
        "new_cheetah = {}\n",
        "for key in ant.keys():\n",
        "    shape = cheetah[key].shape\n",
        "    if len(shape) == 1:\n",
        "      new_cheetah[key] = ant[key][ :shape[0]]\n",
        "    else:\n",
        "      new_cheetah[key] = ant[key][ :shape[0], :shape[1]]\n",
        "\n",
        "\n",
        "algo2.get_policy().set_weights(new_cheetah)\n",
        "\n",
        "rewards2_trasfer_TD3 = []\n",
        "\n",
        "for i in range(10):\n",
        "    result = algo2.train()\n",
        "    rewards2_trasfer_TD3.append(result['episode_reward_mean'])\n",
        "    print(\"Iteration: \" + str(i+1))"
      ]
    },
    {
      "cell_type": "code",
      "execution_count": null,
      "metadata": {
        "id": "IpWgUaaVXgL2"
      },
      "outputs": [],
      "source": [
        "data = {'Average Reward Per Episode': rewards2_trasfer_TD3}\n",
        "df = pd.DataFrame(data)\n",
        "df.to_csv('/content/drive/MyDrive/CS533/Lab_4/rewards2_trasfer_TD3.csv')"
      ]
    },
    {
      "cell_type": "code",
      "execution_count": null,
      "metadata": {
        "id": "67c2sz_CXgEY"
      },
      "outputs": [],
      "source": [
        "ray.shutdown()\n",
        "algo3 = (\n",
        "    TD3Config()\n",
        "    #.training(lr=3e-4, sgd_minibatch_size=64, num_sgd_iter=10, clip_param=0.2) #These are the hyperparameters given in the original PPO paper\n",
        "    .rollouts(num_rollout_workers=1, rollout_fragment_length='auto')\n",
        "    #.resources(num_learner_workers=1, num_cpus_per_worker=2)\n",
        "    .environment(env = \"HalfCheetah-v4\")\n",
        "    .build()\n",
        ")\n",
        "\n",
        "rewards2_TD3 = []\n",
        "for i in range(10):\n",
        "    result = algo3.train()\n",
        "    rewards2_TD3.append(result['episode_reward_mean'])\n",
        "    print(\"Iteration: \" + str(i+1))"
      ]
    },
    {
      "cell_type": "code",
      "execution_count": null,
      "metadata": {
        "id": "rF6fYlqhXf8j"
      },
      "outputs": [],
      "source": [
        "data = {'Average Reward Per Episode': rewards2_TD3}\n",
        "df = pd.DataFrame(data)\n",
        "df.to_csv('/content/drive/MyDrive/CS533/Lab_4/rewards2_TD3.csv')"
      ]
    },
    {
      "cell_type": "code",
      "execution_count": null,
      "metadata": {
        "id": "tZEm8xzzbPPC"
      },
      "outputs": [],
      "source": [
        "#PLOT"
      ]
    },
    {
      "cell_type": "markdown",
      "metadata": {
        "id": "RdrBx7vebTAp"
      },
      "source": [
        "#Question 3:\n",
        "\n",
        "Now consider the scenario where there are multiple agents distributed across different\n",
        "machines/servers all trying to learn the same policy for a particular environment without sharing\n",
        "their samples with each other. Such a privacy preserving setup is called Federated\n",
        "Reinforcement Learning (for more details see here https://arxiv.org/abs/1901.08277).\n",
        "Run multiple copies of the best performing algorithm on the Ant and HalfCheetah\n",
        "environments with slight changes in parameters that are reset_noise_scale and\n",
        "ctrl_cost_weight for HalfCheetah and reset_noise_scale, ctrl_cost_weight and\n",
        "contact_cost_weight for Ant.\n",
        "Can we transform the MB-MPO approach to a privacy preserving Federated setting\n",
        "where the meta policy is learned at the global level without sharing the samples generated by\n",
        "each individual agent? Propose your approach and share your insights on the results."
      ]
    },
    {
      "cell_type": "markdown",
      "metadata": {
        "id": "uI0QTZ-Hd6Wo"
      },
      "source": [
        "###Ant"
      ]
    },
    {
      "cell_type": "code",
      "execution_count": null,
      "metadata": {
        "id": "mNiEqESPbPEI"
      },
      "outputs": [],
      "source": [
        "from ray.tune.registry import register_env\n",
        "from ray.rllib.models.preprocessors import get_preprocessor"
      ]
    },
    {
      "cell_type": "markdown",
      "metadata": {
        "id": "wvZGQO-N0ZyB"
      },
      "source": [
        "Note few errors:\n",
        "\n",
        " register_env(\"Original_Ant\", gym.make(\"Ant-v4\"))\n",
        "\n",
        "\n",
        "     131     if not callable(env_creator):\n",
        "--> 132         raise TypeError(\"Second argument must be callable.\", env_creator)\n",
        "    133     _global_registry.register(ENV_CREATOR, name, env_creator)\n",
        "\n",
        "    \n",
        "('Second argument must be callable.', <TimeLimit<OrderEnforcing<PassiveEnvChecker<AntEnv<Ant-v4>>>>>)italicized text"
      ]
    },
    {
      "cell_type": "code",
      "execution_count": null,
      "metadata": {
        "colab": {
          "base_uri": "https://localhost:8080/"
        },
        "id": "GkS0JfERbO5b",
        "outputId": "fa33c43f-c4b0-41f0-eba4-8d183d399271"
      },
      "outputs": [
        {
          "output_type": "stream",
          "name": "stderr",
          "text": [
            "2023-05-12 03:52:31,460\tINFO algorithm.py:527 -- Current log_level is WARN. For more information, set 'log_level': 'INFO' / 'DEBUG' or use the -v and -vv flags.\n",
            "2023-05-12 03:52:31,842\tWARNING util.py:67 -- Install gputil for GPU system monitoring.\n"
          ]
        },
        {
          "output_type": "stream",
          "name": "stdout",
          "text": [
            "Iteration: 1\n",
            "Iteration: 2\n",
            "Iteration: 3\n",
            "Iteration: 4\n",
            "Iteration: 5\n"
          ]
        }
      ],
      "source": [
        "ray.shutdown()\n",
        "def env_creator(env_config):\n",
        "  return gym.make(\"Ant-v4\")\n",
        "\n",
        "register_env(\"Original_Ant\", env_creator)\n",
        "\n",
        "algo_original = (\n",
        "    TD3Config()\n",
        "    .environment('Original_Ant')\n",
        "    .build()\n",
        ")\n",
        "\n",
        "for i in range(5):\n",
        "  algo_original.train()\n",
        "  print(\"Iteration: \" + str(i+1))"
      ]
    },
    {
      "cell_type": "code",
      "execution_count": null,
      "metadata": {
        "id": "UcfMwWJxbOun"
      },
      "outputs": [],
      "source": [
        "# register_env(\"Ant1\",gym.make(\"Ant-v4\",reset_noise_scale=1.0))\n",
        "# register_env(\"Ant2\",gym.make(\"Ant-v4\",ctrl_cost_weight=2.0))\n",
        "# register_env(\"Ant3\",gym.make(\"Ant-v4\",reset_noise_scale=0.001))\n",
        "\n",
        "def env_creator(env_config):\n",
        "  return gym.make(\"Ant-v4\",ctrl_cost_weight=3.0)\n",
        "\n",
        "register_env(\"Ant1\",env_creator)\n",
        "\n",
        "def env_creator(env_config):\n",
        "  return gym.make(\"Ant-v4\",reset_noise_scale=1.0)\n",
        "\n",
        "register_env(\"Ant2\",env_creator)\n",
        "\n",
        "def env_creator(env_config):\n",
        "  return gym.make(\"Ant-v4\",contact_cost_weight=1e-3)\n",
        "\n",
        "register_env(\"Ant3\",env_creator)"
      ]
    },
    {
      "cell_type": "code",
      "execution_count": null,
      "metadata": {
        "colab": {
          "base_uri": "https://localhost:8080/"
        },
        "id": "RdV0vLggbOjh",
        "outputId": "af4e721f-1a65-401c-d4b4-c020777bd117"
      },
      "outputs": [
        {
          "output_type": "stream",
          "name": "stderr",
          "text": [
            "2023-05-12 03:53:02,853\tWARNING util.py:67 -- Install gputil for GPU system monitoring.\n"
          ]
        },
        {
          "output_type": "stream",
          "name": "stdout",
          "text": [
            "Iteration: 1\n",
            "Iteration: 2\n",
            "Iteration: 3\n",
            "Iteration: 4\n",
            "Iteration: 5\n"
          ]
        },
        {
          "output_type": "stream",
          "name": "stderr",
          "text": [
            "2023-05-12 03:53:19,856\tWARNING util.py:67 -- Install gputil for GPU system monitoring.\n"
          ]
        },
        {
          "output_type": "stream",
          "name": "stdout",
          "text": [
            "Iteration: 1\n",
            "Iteration: 2\n",
            "Iteration: 3\n",
            "Iteration: 4\n"
          ]
        },
        {
          "output_type": "stream",
          "name": "stderr",
          "text": [
            "2023-05-12 03:53:41,965\tWARNING util.py:67 -- Install gputil for GPU system monitoring.\n"
          ]
        },
        {
          "output_type": "stream",
          "name": "stdout",
          "text": [
            "Iteration: 5\n",
            "Iteration: 1\n",
            "Iteration: 2\n",
            "Iteration: 3\n",
            "Iteration: 4\n",
            "Iteration: 5\n"
          ]
        }
      ],
      "source": [
        "ray.shutdown()\n",
        "algo1 = (\n",
        "    TD3Config()\n",
        "    .environment('Ant1')\n",
        "    .build()\n",
        ")\n",
        "\n",
        "for i in range(5):\n",
        "  algo1.train()\n",
        "  print(\"Iteration: \" + str(i+1))\n",
        "\n",
        "ray.shutdown()\n",
        "\n",
        "algo2 = (\n",
        "    TD3Config()\n",
        "    .environment('Ant2')\n",
        "    .build()\n",
        ")\n",
        "\n",
        "for i in range(5):\n",
        "  algo2.train()\n",
        "  print(\"Iteration: \" + str(i+1))\n",
        "\n",
        "ray.shutdown()\n",
        "\n",
        "algo3 = (\n",
        "    TD3Config()\n",
        "    .environment('Ant3')\n",
        "    .build()\n",
        ")\n",
        "\n",
        "for i in range(5):\n",
        "  algo3.train()\n",
        "  print(\"Iteration: \" + str(i+1))"
      ]
    },
    {
      "cell_type": "code",
      "execution_count": null,
      "metadata": {
        "id": "qE-plPLjhxDL"
      },
      "outputs": [],
      "source": [
        "#Generated by GPT\n",
        "\n",
        "env_noisy1 = gym.make(\"Ant-v4\",reset_noise_scale=0.5, ctrl_cost_weight=1,contact_cost_weight=1e-4)\n",
        "env_noisy2 = gym.make(\"Ant-v4\",reset_noise_scale=0.3, ctrl_cost_weight=2,contact_cost_weight=5e-5)\n",
        "env_noisy3 = gym.make(\"Ant-v4\",reset_noise_scale=0.7, ctrl_cost_weight=0.1,contact_cost_weight=5e-4)"
      ]
    },
    {
      "cell_type": "code",
      "execution_count": null,
      "metadata": {
        "id": "dXDq-FhkhwyM"
      },
      "outputs": [],
      "source": [
        "def transform(env):\n",
        "  prep = get_preprocessor(env.observation_space)(env.observation_space)\n",
        "  return prep\n",
        "\n",
        "prep = transform(env_noisy1)\n",
        "results1 = []\n",
        "\n",
        "for e in range(100):\n",
        "  s, _ = env_noisy1.reset()\n",
        "  episode_reward = 0\n",
        "  for t in range(1000):\n",
        "    s = prep.transform(s)\n",
        "    a1 = algo1.compute_single_action(s)\n",
        "    a2 = algo2.compute_single_action(s)\n",
        "    a3 = algo3.compute_single_action(s)\n",
        "    a = (a1 + a2 + a3)/3\n",
        "    s_dash, r, done, trunc, _ = env_noisy1.step(a)\n",
        "    s = s_dash\n",
        "    episode_reward += r\n",
        "\n",
        "    if (done or trunc):\n",
        "      break\n",
        "  results1.append(episode_reward)\n",
        "\n",
        "results1_org = []\n",
        "\n",
        "for e in range(100):\n",
        "  s,_ = env_noisy1.reset()\n",
        "  episode_reward = 0\n",
        "  for t in range(1000):\n",
        "    s = prep.transform(s)\n",
        "    a = algo_original.compute_single_action(s)\n",
        "    s_dash, r, done, trunc, _ = env_noisy1.step(a)\n",
        "    s = s_dash\n",
        "    episode_reward += r\n",
        "\n",
        "    if (done or trunc):\n",
        "      break\n",
        "  results1_org.append(episode_reward) "
      ]
    },
    {
      "cell_type": "code",
      "source": [],
      "metadata": {
        "id": "x4_yfWXoGT0o"
      },
      "execution_count": null,
      "outputs": []
    },
    {
      "cell_type": "code",
      "execution_count": null,
      "metadata": {
        "id": "ato-manQhwhS"
      },
      "outputs": [],
      "source": [
        "prep = transform(env_noisy2)\n",
        "results2 = []\n",
        "\n",
        "for e in range(100):\n",
        "  s, _ = env_noisy2.reset()\n",
        "  episode_reward = 0\n",
        "  for t in range(1000):\n",
        "    s = prep.transform(s)\n",
        "    a1 = algo1.compute_single_action(s)\n",
        "    a2 = algo2.compute_single_action(s)\n",
        "    a3 = algo3.compute_single_action(s)\n",
        "    a = (a1 + a2 + a3)/3\n",
        "    s_dash, r, done, trunc, _ = env_noisy2.step(a)\n",
        "    s = s_dash\n",
        "    episode_reward += r\n",
        "\n",
        "    if (done or trunc):\n",
        "      break\n",
        "  results2.append(episode_reward)\n",
        "\n",
        "results2_org = []\n",
        "\n",
        "for e in range(100):\n",
        "  s,_ = env_noisy2.reset()\n",
        "  episode_reward = 0\n",
        "  for t in range(1000):\n",
        "    s = prep.transform(s)\n",
        "    a = algo_original.compute_single_action(s)\n",
        "    s_dash, r, done, trunc, _ = env_noisy2.step(a)\n",
        "    s = s_dash\n",
        "    episode_reward += r\n",
        "\n",
        "    if (done or trunc):\n",
        "      break\n",
        "  results2_org.append(episode_reward) "
      ]
    },
    {
      "cell_type": "code",
      "execution_count": null,
      "metadata": {
        "id": "7vMaxn-43V8T"
      },
      "outputs": [],
      "source": [
        "prep = transform(env_noisy3)\n",
        "results3 = []\n",
        "\n",
        "for e in range(100):\n",
        "  s, _ = env_noisy3.reset()\n",
        "  episode_reward = 0\n",
        "  for t in range(1000):\n",
        "    s = prep.transform(s)\n",
        "    a1 = algo1.compute_single_action(s)\n",
        "    a2 = algo2.compute_single_action(s)\n",
        "    a3 = algo3.compute_single_action(s)\n",
        "    a = (a1 + a2 + a3)/3\n",
        "    s_dash, r, done, trunc, _ = env_noisy3.step(a)\n",
        "    s = s_dash\n",
        "    episode_reward += r\n",
        "\n",
        "    if (done or trunc):\n",
        "      break\n",
        "  results3.append(episode_reward)\n",
        "\n",
        "results3_org = []\n",
        "\n",
        "for e in range(100):\n",
        "  s,_ = env_noisy3.reset()\n",
        "  episode_reward = 0\n",
        "  for t in range(1000):\n",
        "    s = prep.transform(s)\n",
        "    a = algo_original.compute_single_action(s)\n",
        "    s_dash, r, done, trunc, _ = env_noisy3.step(a)\n",
        "    s = s_dash\n",
        "    episode_reward += r\n",
        "\n",
        "    if (done or trunc):\n",
        "      break\n",
        "  results3_org.append(episode_reward) "
      ]
    },
    {
      "cell_type": "code",
      "execution_count": null,
      "metadata": {
        "id": "LRC2pdB45DcG",
        "colab": {
          "base_uri": "https://localhost:8080/",
          "height": 462
        },
        "outputId": "66355978-3f4b-4579-b4f8-b1996e2520d7"
      },
      "outputs": [
        {
          "output_type": "display_data",
          "data": {
            "text/plain": [
              "<Figure size 1500x600 with 3 Axes>"
            ],
            "image/png": "[encoded data removed]"
          },
          "metadata": {}
        }
      ],
      "source": [
        "plt.figure(figsize=(15,6))\n",
        "plt.subplot(1,3,1)\n",
        "results1 = np.array(results1)\n",
        "results1_org = np.array(results1_org)\n",
        "\n",
        "plt.plot(np.cumsum(results1)/np.cumsum(np.ones(len(results1))) ,label='Federated')\n",
        "plt.plot(np.cumsum(results1_org)/np.cumsum(np.ones(len(results1_org))),label='Original')\n",
        "plt.ylabel(\"Episode Reward\")\n",
        "plt.xlabel(\"No of episodes\")\n",
        "plt.title(\"Ant Env1\")\n",
        "plt.legend()\n",
        "\n",
        "\n",
        "\n",
        "plt.subplot(1,3,2)\n",
        "results2 = np.array(results2)\n",
        "results2_org = np.array(results2_org)\n",
        "\n",
        "plt.plot(np.cumsum(results2)/np.cumsum(np.ones(len(results2))) ,label='Federated')\n",
        "plt.plot(np.cumsum(results2_org)/np.cumsum(np.ones(len(results2_org))),label='Original')\n",
        "plt.ylabel(\"Episode Reward\")\n",
        "plt.xlabel(\"No of episodes\")\n",
        "plt.title(\"Ant Env2\")\n",
        "plt.legend()\n",
        "\n",
        "\n",
        "\n",
        "plt.subplot(1,3,3)\n",
        "results3 = np.array(results3)\n",
        "results3_org = np.array(results3_org)\n",
        "\n",
        "plt.plot(np.cumsum(results3)/np.cumsum(np.ones(len(results3))) ,label='Federated')\n",
        "plt.plot(np.cumsum(results3_org)/np.cumsum(np.ones(len(results3_org))),label='Original')\n",
        "plt.ylabel(\"Episode Reward\")\n",
        "plt.xlabel(\"No of episodes\")\n",
        "plt.title(\"Ant Env3\")\n",
        "plt.legend()\n",
        "\n",
        "\n",
        "\n",
        "plt.legend()\n",
        "plt.show()"
      ]
    },
    {
      "cell_type": "markdown",
      "source": [
        "###Observations:\n",
        "\n",
        "1. FL approach shows very promising results on the 1st 2 environments. While on the 3rd environemnt it is not that bad though.\n",
        "\n",
        "2. Hence the learnt Meta Policy at the global level without sharing the samples generated by each individual agent performs better.\n"
      ],
      "metadata": {
        "id": "R41SxksfRpUb"
      }
    },
    {
      "cell_type": "markdown",
      "metadata": {
        "id": "yj9SOqaV4QRI"
      },
      "source": [
        "##Half-Cheetah FL"
      ]
    },
    {
      "cell_type": "code",
      "execution_count": null,
      "metadata": {
        "id": "Yk-yUrD64Xj4",
        "colab": {
          "base_uri": "https://localhost:8080/"
        },
        "outputId": "b7e7330c-09bb-4973-9959-be5021419a04"
      },
      "outputs": [
        {
          "output_type": "stream",
          "name": "stderr",
          "text": [
            "2023-05-12 04:14:52,495\tWARNING util.py:67 -- Install gputil for GPU system monitoring.\n"
          ]
        },
        {
          "output_type": "stream",
          "name": "stdout",
          "text": [
            "Iteration: 1\n",
            "Iteration: 2\n",
            "Iteration: 3\n",
            "Iteration: 4\n",
            "Iteration: 5\n"
          ]
        }
      ],
      "source": [
        "ray.shutdown()\n",
        "def env_creator(env_config):\n",
        "  return gym.make(\"HalfCheetah-v4\")\n",
        "\n",
        "register_env(\"Original_HalfCheetah\", env_creator)\n",
        "\n",
        "algo_original = (\n",
        "    TD3Config()\n",
        "    .environment('Original_HalfCheetah')\n",
        "    .build()\n",
        ")\n",
        "\n",
        "for i in range(5):\n",
        "  algo_original.train()\n",
        "  print(\"Iteration: \" + str(i+1))"
      ]
    },
    {
      "cell_type": "code",
      "execution_count": 26,
      "metadata": {
        "id": "0xM9mklJ4W_Z"
      },
      "outputs": [],
      "source": [
        "# register_env(\"Ant1\",gym.make(\"Ant-v4\",reset_noise_scale=1.0))\n",
        "# register_env(\"Ant2\",gym.make(\"Ant-v4\",ctrl_cost_weight=2.0))\n",
        "# register_env(\"Ant3\",gym.make(\"Ant-v4\",reset_noise_scale=0.001))\n",
        "\n",
        "def env_creator(env_config):\n",
        "  return gym.make(\"HalfCheetah-v4\",ctrl_cost_weight=3.0)\n",
        "\n",
        "register_env(\"HalfCheetah1\",env_creator)\n",
        "\n",
        "def env_creator(env_config):\n",
        "  return gym.make(\"HalfCheetah-v4\",reset_noise_scale=1.0)\n",
        "\n",
        "register_env(\"HalfCheetah2\",env_creator)\n",
        "\n",
        "# def env_creator(env_config):\n",
        "#   return gym.make(\"HalfCheetah-v4\",contact_cost_weight=1e-3)\n",
        "\n",
        "# register_env(\"HalfCheetah3\",env_creator)"
      ]
    },
    {
      "cell_type": "code",
      "source": [
        "ray.shutdown()\n",
        "algo1 = (\n",
        "    TD3Config()\n",
        "    .environment('HalfCheetah1')\n",
        "    .build()\n",
        ")\n",
        "\n",
        "for i in range(5):\n",
        "  algo1.train()\n",
        "  print(\"Iteration: \" + str(i+1))\n",
        "\n",
        "ray.shutdown()\n",
        "\n",
        "algo2 = (\n",
        "    TD3Config()\n",
        "    .environment('HalfCheetah2')\n",
        "    .build()\n",
        ")\n",
        "\n",
        "for i in range(5):\n",
        "  algo2.train()\n",
        "  print(\"Iteration: \" + str(i+1))"
      ],
      "metadata": {
        "colab": {
          "base_uri": "https://localhost:8080/"
        },
        "id": "StYMFreiMk1T",
        "outputId": "b979edf8-ca33-4744-89e0-be11b3665391"
      },
      "execution_count": 27,
      "outputs": [
        {
          "output_type": "stream",
          "name": "stderr",
          "text": [
            "2023-05-12 04:24:08,042\tWARNING util.py:67 -- Install gputil for GPU system monitoring.\n"
          ]
        },
        {
          "output_type": "stream",
          "name": "stdout",
          "text": [
            "Iteration: 1\n",
            "Iteration: 2\n",
            "Iteration: 3\n",
            "Iteration: 4\n"
          ]
        },
        {
          "output_type": "stream",
          "name": "stderr",
          "text": [
            "2023-05-12 04:24:21,395\tWARNING util.py:67 -- Install gputil for GPU system monitoring.\n"
          ]
        },
        {
          "output_type": "stream",
          "name": "stdout",
          "text": [
            "Iteration: 5\n",
            "Iteration: 1\n",
            "Iteration: 2\n",
            "Iteration: 3\n",
            "Iteration: 4\n",
            "Iteration: 5\n"
          ]
        }
      ]
    },
    {
      "cell_type": "code",
      "execution_count": 22,
      "metadata": {
        "id": "TeHMAaOa4WWH",
        "colab": {
          "base_uri": "https://localhost:8080/"
        },
        "outputId": "f58e6f3e-367b-460e-8764-969e284fc2c2"
      },
      "outputs": [
        {
          "output_type": "stream",
          "name": "stderr",
          "text": [
            "/usr/local/lib/python3.10/dist-packages/ipykernel/ipkernel.py:283: DeprecationWarning: `should_run_async` will not call `transform_cell` automatically in the future. Please pass the result to `transformed_cell` argument and any exception that happen during thetransform in `preprocessing_exc_tuple` in IPython 7.17 and above.\n",
            "  and should_run_async(code)\n"
          ]
        }
      ],
      "source": [
        "env_noisy1 = gym.make(\"HalfCheetah-v4\",reset_noise_scale=0.5, ctrl_cost_weight=1)\n",
        "env_noisy2 = gym.make(\"HalfCheetah-v4\",reset_noise_scale=0.3, ctrl_cost_weight=2)\n",
        "env_noisy3 = gym.make(\"HalfCheetah-v4\",reset_noise_scale=0.7, ctrl_cost_weight=0.1)"
      ]
    },
    {
      "cell_type": "code",
      "execution_count": 28,
      "metadata": {
        "id": "8DC6qm-q4Vu3"
      },
      "outputs": [],
      "source": [
        "def transform(env):\n",
        "  prep = get_preprocessor(env.observation_space)(env.observation_space)\n",
        "  return prep\n",
        "\n",
        "prep = transform(env_noisy1)\n",
        "results1 = []\n",
        "\n",
        "for e in range(100):\n",
        "  s, _ = env_noisy1.reset()\n",
        "  episode_reward = 0\n",
        "  for t in range(1000):\n",
        "    s = prep.transform(s)\n",
        "    a1 = algo1.compute_single_action(s)\n",
        "    a2 = algo2.compute_single_action(s)\n",
        "    # a3 = algo3.compute_single_action(s)\n",
        "    # a = (a1 + a2 + a3)/3\n",
        "    a = (a1 + a2)/2\n",
        "    s_dash, r, done, trunc, _ = env_noisy1.step(a)\n",
        "    s = s_dash\n",
        "    episode_reward += r\n",
        "\n",
        "    if (done or trunc):\n",
        "      break\n",
        "  results1.append(episode_reward)\n",
        "\n",
        "results1_org = []\n",
        "\n",
        "for e in range(100):\n",
        "  s,_ = env_noisy1.reset()\n",
        "  episode_reward = 0\n",
        "  for t in range(1000):\n",
        "    s = prep.transform(s)\n",
        "    a = algo_original.compute_single_action(s)\n",
        "    s_dash, r, done, trunc, _ = env_noisy1.step(a)\n",
        "    s = s_dash\n",
        "    episode_reward += r\n",
        "\n",
        "    if (done or trunc):\n",
        "      break\n",
        "  results1_org.append(episode_reward) "
      ]
    },
    {
      "cell_type": "code",
      "execution_count": 29,
      "metadata": {
        "id": "TTja45AG4VKe"
      },
      "outputs": [],
      "source": [
        "def transform(env):\n",
        "  prep = get_preprocessor(env.observation_space)(env.observation_space)\n",
        "  return prep\n",
        "\n",
        "prep = transform(env_noisy2)\n",
        "results2 = []\n",
        "\n",
        "for e in range(100):\n",
        "  s, _ = env_noisy2.reset()\n",
        "  episode_reward = 0\n",
        "  for t in range(1000):\n",
        "    s = prep.transform(s)\n",
        "    a1 = algo1.compute_single_action(s)\n",
        "    a2 = algo2.compute_single_action(s)\n",
        "    # a3 = algo3.compute_single_action(s)\n",
        "    # a = (a1 + a2 + a3)/3\n",
        "    a = (a1 + a2)/2\n",
        "    s_dash, r, done, trunc, _ = env_noisy2.step(a)\n",
        "    s = s_dash\n",
        "    episode_reward += r\n",
        "\n",
        "    if (done or trunc):\n",
        "      break\n",
        "  results2.append(episode_reward)\n",
        "\n",
        "results2_org = []\n",
        "\n",
        "for e in range(100):\n",
        "  s,_ = env_noisy2.reset()\n",
        "  episode_reward = 0\n",
        "  for t in range(1000):\n",
        "    s = prep.transform(s)\n",
        "    a = algo_original.compute_single_action(s)\n",
        "    s_dash, r, done, trunc, _ = env_noisy2.step(a)\n",
        "    s = s_dash\n",
        "    episode_reward += r\n",
        "\n",
        "    if (done or trunc):\n",
        "      break\n",
        "  results2_org.append(episode_reward) "
      ]
    },
    {
      "cell_type": "code",
      "execution_count": 30,
      "metadata": {
        "id": "ttJ852Mn4Uj0"
      },
      "outputs": [],
      "source": [
        "def transform(env):\n",
        "  prep = get_preprocessor(env.observation_space)(env.observation_space)\n",
        "  return prep\n",
        "\n",
        "prep = transform(env_noisy3)\n",
        "results3 = []\n",
        "\n",
        "for e in range(100):\n",
        "  s, _ = env_noisy3.reset()\n",
        "  episode_reward = 0\n",
        "  for t in range(1000):\n",
        "    s = prep.transform(s)\n",
        "    a1 = algo1.compute_single_action(s)\n",
        "    a2 = algo2.compute_single_action(s)\n",
        "    # a3 = algo3.compute_single_action(s)\n",
        "    # a = (a1 + a2 + a3)/3\n",
        "    a = (a1 + a2)/2\n",
        "    s_dash, r, done, trunc, _ = env_noisy3.step(a)\n",
        "    s = s_dash\n",
        "    episode_reward += r\n",
        "\n",
        "    if (done or trunc):\n",
        "      break\n",
        "  results3.append(episode_reward)\n",
        "\n",
        "results3_org = []\n",
        "\n",
        "for e in range(100):\n",
        "  s,_ = env_noisy3.reset()\n",
        "  episode_reward = 0\n",
        "  for t in range(1000):\n",
        "    s = prep.transform(s)\n",
        "    a = algo_original.compute_single_action(s)\n",
        "    s_dash, r, done, trunc, _ = env_noisy3.step(a)\n",
        "    s = s_dash\n",
        "    episode_reward += r\n",
        "\n",
        "    if (done or trunc):\n",
        "      break\n",
        "  results3_org.append(episode_reward) "
      ]
    },
    {
      "cell_type": "code",
      "execution_count": 31,
      "metadata": {
        "id": "swTmhZHq4T_m",
        "colab": {
          "base_uri": "https://localhost:8080/",
          "height": 564
        },
        "outputId": "fed998bb-6fee-4a44-abb9-5fde7d09e5ac"
      },
      "outputs": [
        {
          "output_type": "display_data",
          "data": {
            "text/plain": [
              "<Figure size 1500x600 with 3 Axes>"
            ],
            "image/png": "[encoded data removed]"
          },
          "metadata": {}
        }
      ],
      "source": [
        "plt.figure(figsize=(15,6))\n",
        "plt.subplot(1,3,1)\n",
        "results1 = np.array(results1)\n",
        "results1_org = np.array(results1_org)\n",
        "\n",
        "plt.plot(np.cumsum(results1)/np.cumsum(np.ones(len(results1))) ,label='Federated')\n",
        "plt.plot(np.cumsum(results1_org)/np.cumsum(np.ones(len(results1_org))),label='Original')\n",
        "plt.ylabel(\"Episode Reward\")\n",
        "plt.xlabel(\"No of episodes\")\n",
        "plt.title(\"HalfCheetah Env1\")\n",
        "plt.legend()\n",
        "\n",
        "\n",
        "\n",
        "plt.subplot(1,3,2)\n",
        "results2 = np.array(results2)\n",
        "results2_org = np.array(results2_org)\n",
        "\n",
        "plt.plot(np.cumsum(results2)/np.cumsum(np.ones(len(results2))) ,label='Federated')\n",
        "plt.plot(np.cumsum(results2_org)/np.cumsum(np.ones(len(results2_org))),label='Original')\n",
        "plt.ylabel(\"Episode Reward\")\n",
        "plt.xlabel(\"No of episodes\")\n",
        "plt.title(\"HalfCheetah Env2\")\n",
        "plt.legend()\n",
        "\n",
        "\n",
        "\n",
        "plt.subplot(1,3,3)\n",
        "results3 = np.array(results3)\n",
        "results3_org = np.array(results3_org)\n",
        "\n",
        "plt.plot(np.cumsum(results3)/np.cumsum(np.ones(len(results3))) ,label='Federated')\n",
        "plt.plot(np.cumsum(results3_org)/np.cumsum(np.ones(len(results3_org))),label='Original')\n",
        "plt.ylabel(\"Episode Reward\")\n",
        "plt.xlabel(\"No of episodes\")\n",
        "plt.title(\"HalfCheetah Env3\")\n",
        "plt.legend()\n",
        "\n",
        "\n",
        "\n",
        "plt.legend()\n",
        "plt.show()"
      ]
    },
    {
      "cell_type": "markdown",
      "source": [
        "###Observations:\n",
        "\n",
        "1. FL approach shows very promising results on the all the envirnoments.\n",
        "\n",
        "2. Hence the learnt Meta Policy at the global level without sharing the samples generated by each individual agent completly dominates the Original.\n"
      ],
      "metadata": {
        "id": "MlHfeORWS2um"
      }
    },
    {
      "cell_type": "code",
      "source": [],
      "metadata": {
        "id": "pDF3KDHTRhb-"
      },
      "execution_count": null,
      "outputs": []
    },
    {
      "cell_type": "code",
      "source": [],
      "metadata": {
        "id": "QEWIubyDRhY-"
      },
      "execution_count": null,
      "outputs": []
    },
    {
      "cell_type": "code",
      "source": [],
      "metadata": {
        "id": "5qPyK1BBRhWY"
      },
      "execution_count": null,
      "outputs": []
    },
    {
      "cell_type": "code",
      "source": [],
      "metadata": {
        "id": "g61qzAShRhTe"
      },
      "execution_count": null,
      "outputs": []
    },
    {
      "cell_type": "code",
      "source": [],
      "metadata": {
        "id": "13U2RVxtRhQ2"
      },
      "execution_count": null,
      "outputs": []
    },
    {
      "cell_type": "code",
      "source": [],
      "metadata": {
        "id": "KjxyMEiHRhOW"
      },
      "execution_count": null,
      "outputs": []
    },
    {
      "cell_type": "code",
      "execution_count": null,
      "metadata": {
        "id": "7w5eiacw_487"
      },
      "outputs": [],
      "source": [
        "# from rllab.algos.trpo import TRPO\n",
        "# from rllab.baselines.linear_feature_baseline import LinearFeatureBaseline\n",
        "# from rllab.envs.box2d.cartpole_env import CartpoleEnv\n",
        "# from rllab.envs.normalized_env import normalize\n",
        "# from rllab.policies.gaussian_mlp_policy import GaussianMLPPolicy\n",
        "\n",
        "# env = normalize(CartpoleEnv())\n",
        "\n",
        "# policy = GaussianMLPPolicy(\n",
        "#     env_spec=env.spec,\n",
        "#     # The neural network policy should have two hidden layers, each with 32 hidden units.\n",
        "#     hidden_sizes=(32, 32)\n",
        "# )\n",
        "\n",
        "# baseline = LinearFeatureBaseline(env_spec=env.spec)\n",
        "\n",
        "# algo = TRPO(\n",
        "#     env=env,\n",
        "#     policy=policy,\n",
        "#     baseline=baseline,\n",
        "#     batch_size=4000,\n",
        "#     whole_paths=True,\n",
        "#     max_path_length=100,\n",
        "#     n_itr=40,\n",
        "#     discount=0.99,\n",
        "#     step_size=0.01,\n",
        "# )\n",
        "# algo.train()"
      ]
    },
    {
      "cell_type": "code",
      "execution_count": null,
      "metadata": {
        "colab": {
          "base_uri": "https://localhost:8080/"
        },
        "id": "aoJ5G7_6mWfs",
        "outputId": "9ea5ff4a-400c-482f-80ec-674c4ee19de9"
      },
      "outputs": [
        {
          "name": "stdout",
          "output_type": "stream",
          "text": [
            "{'extra_python_environs_for_driver': {}, 'extra_python_environs_for_worker': {}, 'num_gpus': 0, 'num_cpus_per_worker': 1, 'num_gpus_per_worker': 0, '_fake_gpus': False, 'num_learner_workers': 0, 'num_gpus_per_learner_worker': 0, 'num_cpus_per_learner_worker': 1, 'local_gpu_idx': 0, 'custom_resources_per_worker': {}, 'placement_strategy': 'PACK', 'eager_tracing': False, 'eager_max_retraces': 20, 'tf_session_args': {'intra_op_parallelism_threads': 2, 'inter_op_parallelism_threads': 2, 'gpu_options': {'allow_growth': True}, 'log_device_placement': False, 'device_count': {'CPU': 1}, 'allow_soft_placement': True}, 'local_tf_session_args': {'intra_op_parallelism_threads': 8, 'inter_op_parallelism_threads': 8}, 'env': None, 'env_config': {}, 'observation_space': None, 'action_space': None, 'env_task_fn': None, 'render_env': False, 'clip_rewards': None, 'normalize_actions': True, 'clip_actions': False, 'disable_env_checking': False, 'is_atari': None, 'auto_wrap_old_gym_envs': True, 'num_envs_per_worker': 1, 'sample_collector': <class 'ray.rllib.evaluation.collectors.simple_list_collector.SimpleListCollector'>, 'sample_async': False, 'enable_connectors': True, 'rollout_fragment_length': 200, 'batch_mode': 'complete_episodes', 'remote_worker_envs': False, 'remote_env_batch_wait_ms': 0, 'validate_workers_after_construction': True, 'preprocessor_pref': 'deepmind', 'observation_filter': 'NoFilter', 'synchronize_filters': True, 'compress_observations': False, 'enable_tf1_exec_eagerly': False, 'sampler_perf_stats_ema_coef': None, 'gamma': 0.99, 'lr': 0.0003, 'train_batch_size': 512, 'model': {'_disable_preprocessor_api': False, '_disable_action_flattening': False, 'fcnet_hiddens': [256, 256], 'fcnet_activation': 'tanh', 'conv_filters': None, 'conv_activation': 'relu', 'post_fcnet_hiddens': [], 'post_fcnet_activation': 'relu', 'free_log_std': False, 'no_final_linear': False, 'vf_share_layers': True, 'use_lstm': False, 'max_seq_len': 20, 'lstm_cell_size': 256, 'lstm_use_prev_action': False, 'lstm_use_prev_reward': False, '_time_major': False, 'use_attention': False, 'attention_num_transformer_units': 1, 'attention_dim': 64, 'attention_num_heads': 1, 'attention_head_dim': 32, 'attention_memory_inference': 50, 'attention_memory_training': 50, 'attention_position_wise_mlp_dim': 32, 'attention_init_gru_gate_bias': 2.0, 'attention_use_n_prev_actions': 0, 'attention_use_n_prev_rewards': 0, 'framestack': True, 'dim': 84, 'grayscale': False, 'zero_mean': True, 'custom_model': None, 'custom_model_config': {}, 'custom_action_dist': None, 'custom_preprocessor': None, 'encoder_latent_dim': None, 'lstm_use_prev_action_reward': -1, '_use_default_native_models': -1}, 'optimizer': {}, 'max_requests_in_flight_per_sampler_worker': 2, 'learner_class': None, '_enable_learner_api': False, '_learner_hps': LearnerHPs(), 'explore': True, 'exploration_config': {'type': <class 'ray.rllib.algorithms.mbmpo.utils.MBMPOExploration'>, 'random_timesteps': 8000}, 'policy_states_are_swappable': False, 'input_config': {}, 'actions_in_input_normalized': False, 'postprocess_inputs': False, 'shuffle_buffer_size': 0, 'output': None, 'output_config': {}, 'output_compress_columns': ['obs', 'new_obs'], 'output_max_file_size': 67108864, 'offline_sampling': False, 'evaluation_interval': None, 'evaluation_duration': 10, 'evaluation_duration_unit': 'episodes', 'evaluation_sample_timeout_s': 180.0, 'evaluation_parallel_to_training': False, 'evaluation_config': None, 'off_policy_estimation_methods': {}, 'ope_split_batch_by_episode': True, 'evaluation_num_workers': 0, 'always_attach_evaluation_results': False, 'enable_async_evaluation': False, 'in_evaluation': False, 'sync_filters_on_rollout_workers_timeout_s': 60.0, 'keep_per_episode_custom_metrics': False, 'metrics_episode_collection_timeout_s': 60.0, 'metrics_num_episodes_for_smoothing': 100, 'min_time_s_per_iteration': None, 'min_train_timesteps_per_iteration': 0, 'min_sample_timesteps_per_iteration': 0, 'export_native_model_files': False, 'checkpoint_trainable_policies_only': False, 'logger_creator': None, 'logger_config': None, 'log_level': 'WARN', 'log_sys_usage': True, 'fake_sampler': False, 'seed': None, 'worker_cls': None, 'ignore_worker_failures': False, 'recreate_failed_workers': False, 'max_num_worker_restarts': 1000, 'delay_between_worker_restarts_s': 60.0, 'restart_failed_sub_environments': False, 'num_consecutive_worker_failures_tolerance': 100, 'worker_health_probe_timeout_s': 60, 'worker_restore_timeout_s': 1800, 'rl_module_spec': None, '_enable_rl_module_api': False, '_validate_exploration_conf_and_rl_modules': True, '_tf_policy_handles_more_than_one_loss': False, '_disable_preprocessor_api': False, '_disable_action_flattening': False, '_disable_execution_plan_api': False, 'simple_optimizer': -1, 'replay_sequence_length': None, 'horizon': -1, 'soft_horizon': -1, 'no_done_at_end': -1, 'use_gae': True, 'kl_coeff': 0.0005, 'vf_loss_coeff': 0.5, 'entropy_coeff': 0.0, 'clip_param': 0.5, 'vf_clip_param': 10.0, 'grad_clip': None, 'kl_target': 0.01, 'inner_adaptation_steps': 1, 'maml_optimizer_steps': 8, 'inner_lr': 0.001, 'dynamics_model': {'custom_model': <class 'ray.rllib.algorithms.mbmpo.model_ensemble.DynamicsEnsembleCustomModel'>, 'ensemble_size': 5, 'fcnet_hiddens': [512, 512, 512], 'lr': 0.001, 'train_epochs': 500, 'batch_size': 500, 'valid_split_ratio': 0.2, 'normalize_data': True}, 'custom_vector_env': <function model_vector_env at 0x7f3268437760>, 'num_maml_steps': 10, 'vf_share_layers': -1, 'lambda': 1.0, 'input': 'sampler', 'multiagent': {'policies': {'default_policy': (None, None, None, None)}, 'policy_mapping_fn': <function AlgorithmConfig.DEFAULT_POLICY_MAPPING_FN at 0x7f327a0193f0>, 'policies_to_train': None, 'policy_map_capacity': 100, 'policy_map_cache': -1, 'count_steps_by': 'env_steps', 'observation_fn': None}, 'callbacks': <class 'ray.rllib.algorithms.callbacks.DefaultCallbacks'>, 'create_env_on_driver': True, 'custom_eval_function': None, 'framework': 'torch', 'num_cpus_for_driver': 1, 'num_workers': 64}\n",
            "\u001b[2m\u001b[1m\u001b[33m(autoscaler +9m34s)\u001b[0m Warning: The following resource request cannot be scheduled right now: {'CPU': 1.0}. This is likely due to all cluster resources being claimed by actors. Consider creating fewer actors or adding more nodes to this Ray cluster.\n"
          ]
        },
        {
          "name": "stderr",
          "output_type": "stream",
          "text": [
            "\u001b[2m\u001b[36m(pid=3813)\u001b[0m   declare_namespace(parent)\n",
            "\u001b[2m\u001b[36m(pid=3813)\u001b[0m Implementing implicit namespace packages (as specified in PEP 420) is preferred to `pkg_resources.declare_namespace`. See https://setuptools.pypa.io/en/latest/references/keywords.html#keyword-namespace-packages\u001b[32m [repeated 2x across cluster]\u001b[0m\n",
            "\u001b[2m\u001b[36m(pid=3813)\u001b[0m   declare_namespace(parent)\n",
            "\u001b[2m\u001b[36m(pid=3813)\u001b[0m   declare_namespace(parent)\n",
            "\u001b[2m\u001b[36m(pid=3813)\u001b[0m   declare_namespace(parent)\n",
            "\u001b[2m\u001b[36m(pid=3812)\u001b[0m /usr/local/lib/python3.10/dist-packages/google/rpc/__init__.py:20: DeprecationWarning: Deprecated call to `pkg_resources.declare_namespace('google.rpc')`.\n",
            "\u001b[2m\u001b[36m(pid=3812)\u001b[0m   pkg_resources.declare_namespace(__name__)\n",
            "\u001b[2m\u001b[36m(pid=3812)\u001b[0m /usr/local/lib/python3.10/dist-packages/pkg_resources/__init__.py:2349: DeprecationWarning: Deprecated call to `pkg_resources.declare_namespace('google')`.\n",
            "\u001b[2m\u001b[36m(pid=3812)\u001b[0m   declare_namespace(parent)\n"
          ]
        },
        {
          "name": "stdout",
          "output_type": "stream",
          "text": [
            "\u001b[2m\u001b[1m\u001b[33m(autoscaler +10m10s)\u001b[0m Warning: The following resource request cannot be scheduled right now: {'CPU': 1.0}. This is likely due to all cluster resources being claimed by actors. Consider creating fewer actors or adding more nodes to this Ray cluster.\n",
            "\u001b[2m\u001b[1m\u001b[33m(autoscaler +10m45s)\u001b[0m Warning: The following resource request cannot be scheduled right now: {'CPU': 1.0}. This is likely due to all cluster resources being claimed by actors. Consider creating fewer actors or adding more nodes to this Ray cluster.\n",
            "\u001b[2m\u001b[1m\u001b[33m(autoscaler +11m20s)\u001b[0m Warning: The following resource request cannot be scheduled right now: {'CPU': 1.0}. This is likely due to all cluster resources being claimed by actors. Consider creating fewer actors or adding more nodes to this Ray cluster.\n",
            "\u001b[2m\u001b[1m\u001b[33m(autoscaler +11m55s)\u001b[0m Warning: The following resource request cannot be scheduled right now: {'CPU': 1.0}. This is likely due to all cluster resources being claimed by actors. Consider creating fewer actors or adding more nodes to this Ray cluster.\n",
            "\u001b[2m\u001b[1m\u001b[33m(autoscaler +12m30s)\u001b[0m Warning: The following resource request cannot be scheduled right now: {'CPU': 1.0}. This is likely due to all cluster resources being claimed by actors. Consider creating fewer actors or adding more nodes to this Ray cluster.\n",
            "\u001b[2m\u001b[1m\u001b[33m(autoscaler +13m5s)\u001b[0m Warning: The following resource request cannot be scheduled right now: {'CPU': 1.0}. This is likely due to all cluster resources being claimed by actors. Consider creating fewer actors or adding more nodes to this Ray cluster.\n",
            "\u001b[2m\u001b[1m\u001b[33m(autoscaler +13m40s)\u001b[0m Warning: The following resource request cannot be scheduled right now: {'CPU': 1.0}. This is likely due to all cluster resources being claimed by actors. Consider creating fewer actors or adding more nodes to this Ray cluster.\n",
            "\u001b[2m\u001b[1m\u001b[33m(autoscaler +14m15s)\u001b[0m Warning: The following resource request cannot be scheduled right now: {'CPU': 1.0}. This is likely due to all cluster resources being claimed by actors. Consider creating fewer actors or adding more nodes to this Ray cluster.\n",
            "\u001b[2m\u001b[1m\u001b[33m(autoscaler +14m50s)\u001b[0m Warning: The following resource request cannot be scheduled right now: {'CPU': 1.0}. This is likely due to all cluster resources being claimed by actors. Consider creating fewer actors or adding more nodes to this Ray cluster.\n",
            "\u001b[2m\u001b[1m\u001b[33m(autoscaler +15m25s)\u001b[0m Warning: The following resource request cannot be scheduled right now: {'CPU': 1.0}. This is likely due to all cluster resources being claimed by actors. Consider creating fewer actors or adding more nodes to this Ray cluster.\n",
            "\u001b[2m\u001b[1m\u001b[33m(autoscaler +16m0s)\u001b[0m Warning: The following resource request cannot be scheduled right now: {'CPU': 1.0}. This is likely due to all cluster resources being claimed by actors. Consider creating fewer actors or adding more nodes to this Ray cluster.\n",
            "\u001b[2m\u001b[1m\u001b[33m(autoscaler +16m35s)\u001b[0m Warning: The following resource request cannot be scheduled right now: {'CPU': 1.0}. This is likely due to all cluster resources being claimed by actors. Consider creating fewer actors or adding more nodes to this Ray cluster.\n",
            "\u001b[2m\u001b[1m\u001b[33m(autoscaler +17m10s)\u001b[0m Warning: The following resource request cannot be scheduled right now: {'CPU': 1.0}. This is likely due to all cluster resources being claimed by actors. Consider creating fewer actors or adding more nodes to this Ray cluster.\n",
            "\u001b[2m\u001b[1m\u001b[33m(autoscaler +17m45s)\u001b[0m Warning: The following resource request cannot be scheduled right now: {'CPU': 1.0}. This is likely due to all cluster resources being claimed by actors. Consider creating fewer actors or adding more nodes to this Ray cluster.\n",
            "\u001b[2m\u001b[1m\u001b[33m(autoscaler +18m21s)\u001b[0m Warning: The following resource request cannot be scheduled right now: {'CPU': 1.0}. This is likely due to all cluster resources being claimed by actors. Consider creating fewer actors or adding more nodes to this Ray cluster.\n",
            "\u001b[2m\u001b[1m\u001b[33m(autoscaler +18m56s)\u001b[0m Warning: The following resource request cannot be scheduled right now: {'CPU': 1.0}. This is likely due to all cluster resources being claimed by actors. Consider creating fewer actors or adding more nodes to this Ray cluster.\n"
          ]
        }
      ],
      "source": [
        "from ray.rllib.algorithms.mbmpo import MBMPOConfig\n",
        "config = MBMPOConfig()\n",
        "config = config.training(lr=0.0003, train_batch_size=512)  \n",
        "#config = config.resources(num_gpus=4) \n",
        "config = config.rollouts(num_rollout_workers=64)  \n",
        "print(config.to_dict())  \n",
        "# Build a Algorithm object from the config and run 1 training iteration.\n",
        "algo = config.build(env=\"CartPole-v1\")  \n",
        "algo.train()  "
      ]
    },
    {
      "cell_type": "code",
      "execution_count": null,
      "metadata": {
        "id": "2CbBbtneoVQo"
      },
      "outputs": [],
      "source": []
    }
  ],
  "metadata": {
    "accelerator": "GPU",
    "colab": {
      "provenance": [],
      "gpuType": "T4"
    },
    "gpuClass": "standard",
    "kernelspec": {
      "display_name": "Python 3",
      "name": "python3"
    },
    "language_info": {
      "name": "python"
    }
  },
  "nbformat": 4,
  "nbformat_minor": 0
}